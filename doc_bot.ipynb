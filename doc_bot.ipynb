{
 "cells": [
  {
   "cell_type": "code",
   "execution_count": 4,
   "metadata": {},
   "outputs": [],
   "source": [
    "import cohere\n",
    "import os\n",
    "from dotenv import load_dotenv\n",
    "from langchain_community.document_loaders import PyPDFLoader\n",
    "from langchain_community.document_loaders import UnstructuredPDFLoader"
   ]
  },
  {
   "cell_type": "code",
   "execution_count": 5,
   "metadata": {},
   "outputs": [],
   "source": [
    "load_dotenv('.env')\n",
    "# Initializes your app with your bot token and socket mode handler\n",
    "cohere_api_key=os.environ.get(\"cohere_api_key\")"
   ]
  },
  {
   "cell_type": "code",
   "execution_count": 6,
   "metadata": {},
   "outputs": [],
   "source": [
    "#loader = UnstructuredPDFLoader(\"Light.pdf\", extract_images=True)\n",
    "loader = PyPDFLoader(\"Light.pdf\", extract_images=True)\n",
    "pages = loader.load_and_split()"
   ]
  },
  {
   "cell_type": "code",
   "execution_count": 7,
   "metadata": {},
   "outputs": [
    {
     "data": {
      "text/plain": [
       "44"
      ]
     },
     "execution_count": 7,
     "metadata": {},
     "output_type": "execute_result"
    }
   ],
   "source": [
    "len(pages)"
   ]
  },
  {
   "cell_type": "code",
   "execution_count": 8,
   "metadata": {},
   "outputs": [
    {
     "data": {
      "text/plain": [
       "'Chapter One\\nELECTRIC CHARGES\\nAND FIELDS\\n1.1  I NTRODUCTION\\nAll of us have the experience of seeing a spark or hearing a crackle when\\nwe take of f our synthetic clothes or sweater , particularly in dry weather .\\nHave you ever tried to find any explanation for this phenomenon? Another\\ncommon example of electric discharge is the lightning that we see in the\\nsky during thunderstor ms. W e also experience a sensation of an electric\\nshock either while opening the door of a car or holding the iron bar of a\\nbus after sliding from our seat. The reason for these experiences is\\ndischarge of electric charges through our body, which were accumulated\\ndue to rubbing of insulating sur faces. Y ou might have also hear d that\\nthis is due to generation of static electricity. This is precisely the topic we\\nare going to discuss in this and the next chapter . Static means anything\\nthat does not move or change with time. Electrostatics deals with\\nthe study of forces, fields and potentials arising from\\nstatic charges .\\n1.2  E LECTRIC  CHARGE\\nHistorically the credit of discovery of the fact that amber rubbed with\\nwool or silk cloth attracts light objects goes to Thales of Miletus, Greece,\\naround 600 BC. The name electricity is coined from the Greek word\\n2024-25\\n2024-25\\n口\\n口\\n口\\n12089CH01'"
      ]
     },
     "execution_count": 8,
     "metadata": {},
     "output_type": "execute_result"
    }
   ],
   "source": [
    "pages[0].page_content"
   ]
  },
  {
   "cell_type": "code",
   "execution_count": 9,
   "metadata": {},
   "outputs": [
    {
     "data": {
      "text/plain": [
       "136"
      ]
     },
     "execution_count": 9,
     "metadata": {},
     "output_type": "execute_result"
    }
   ],
   "source": [
    "from langchain.text_splitter import RecursiveCharacterTextSplitter\n",
    "\n",
    "\n",
    "r_splitter = RecursiveCharacterTextSplitter(\n",
    "    chunk_size = 1024 , \n",
    "    chunk_overlap = 256,\n",
    "    length_function  = len\n",
    ")\n",
    "\n",
    "docs = r_splitter.split_documents(pages)\n",
    "len(docs)"
   ]
  },
  {
   "cell_type": "code",
   "execution_count": 10,
   "metadata": {},
   "outputs": [],
   "source": [
    "from langchain_cohere import CohereEmbeddings\n",
    "embeddings_model = CohereEmbeddings(cohere_api_key=cohere_api_key)"
   ]
  },
  {
   "cell_type": "code",
   "execution_count": 11,
   "metadata": {},
   "outputs": [],
   "source": [
    "persist_directory = 'embeddings/chroma_doc/'"
   ]
  },
  {
   "cell_type": "code",
   "execution_count": 12,
   "metadata": {},
   "outputs": [],
   "source": [
    "from langchain.vectorstores import Chroma\n",
    "vectordb = Chroma.from_documents(\n",
    "    documents=docs,\n",
    "    embedding=embeddings_model,\n",
    "    persist_directory=persist_directory\n",
    ")"
   ]
  },
  {
   "cell_type": "code",
   "execution_count": 13,
   "metadata": {},
   "outputs": [
    {
     "name": "stdout",
     "output_type": "stream",
     "text": [
      "with an identical uncharged sphere, the charge will spread over\n",
      "the two spheres. By symmetry, the charge on each sphere will\n",
      "be q/2*. Repeating this process, we can get charges q/2, q/4,\n",
      "etc. Coulomb varied the distance for a fixed pair of charges and\n",
      "measured the force for different separations. He then varied the\n",
      "charges in pairs, keeping the distance fixed for each pair .\n",
      "Comparing forces for different pairs of  charges at different\n",
      "distances, Coulomb arrived at the relation, Eq. (1.1).\n",
      "Coulomb’s law, a simple mathematical statement,  was\n",
      "initially experimentally arrived at  in the manner described\n",
      "above. While the original experiments established it at a\n",
      "macroscopic scale, it has also been established down to\n",
      "subatomic level  ( r ~ 10–10 m).\n",
      "Coulomb discovered his law without knowing the explicit\n",
      "magnitude of the charge. In fact, it is the other way round:\n",
      "Coulomb’s law can now be employed to furnish a definition\n",
      "for a unit of charge. In the relation, Eq. (1.1), k is so far\n"
     ]
    }
   ],
   "source": [
    "query = \"What is COULOMB'S LAW?\"\n",
    "docs = vectordb.similarity_search(query, k=2)\n",
    "print(docs[0].page_content)"
   ]
  },
  {
   "cell_type": "code",
   "execution_count": 14,
   "metadata": {},
   "outputs": [
    {
     "name": "stdout",
     "output_type": "stream",
     "text": [
      "with an identical uncharged sphere, the charge will spread over\n",
      "the two spheres. By symmetry, the charge on each sphere will\n",
      "be q/2*. Repeating this process, we can get charges q/2, q/4,\n",
      "etc. Coulomb varied the distance for a fixed pair of charges and\n",
      "measured the force for different separations. He then varied the\n",
      "charges in pairs, keeping the distance fixed for each pair .\n",
      "Comparing forces for different pairs of  charges at different\n",
      "distances, Coulomb arrived at the relation, Eq. (1.1).\n",
      "Coulomb’s law, a simple mathematical statement,  was\n",
      "initially experimentally arrived at  in the manner described\n",
      "above. While the original experiments established it at a\n",
      "macroscopic scale, it has also been established down to\n",
      "subatomic level  ( r ~ 10–10 m).\n",
      "Coulomb discovered his law without knowing the explicit\n",
      "magnitude of the charge. In fact, it is the other way round:\n",
      "Coulomb’s law can now be employed to furnish a definition\n",
      "for a unit of charge. In the relation, Eq. (1.1), k is so far\n"
     ]
    }
   ],
   "source": [
    "embedding_vector = embeddings_model.embed_query(query)\n",
    "docs = vectordb.similarity_search_by_vector(embedding_vector)\n",
    "print(docs[0].page_content)"
   ]
  },
  {
   "cell_type": "code",
   "execution_count": 15,
   "metadata": {},
   "outputs": [],
   "source": [
    "from langchain_cohere import ChatCohere"
   ]
  },
  {
   "cell_type": "code",
   "execution_count": 16,
   "metadata": {},
   "outputs": [],
   "source": [
    "from langchain.chains import ConversationalRetrievalChain, StuffDocumentsChain, create_history_aware_retriever, create_retrieval_chain, LLMChain \n",
    "from langchain import hub\n",
    "from langchain.chains import RetrievalQA\n",
    "from langchain.chains.combine_documents import create_stuff_documents_chain\n",
    "from langchain_core.prompts import PromptTemplate\n"
   ]
  },
  {
   "cell_type": "code",
   "execution_count": 17,
   "metadata": {},
   "outputs": [
    {
     "name": "stderr",
     "output_type": "stream",
     "text": [
      "C:\\Users\\dell\\AppData\\Local\\Packages\\PythonSoftwareFoundation.Python.3.10_qbz5n2kfra8p0\\LocalCache\\local-packages\\Python310\\site-packages\\langchain_core\\_api\\deprecation.py:119: LangChainDeprecationWarning: The class `LLMChain` was deprecated in LangChain 0.1.17 and will be removed in 0.3.0. Use RunnableSequence, e.g., `prompt | llm` instead.\n",
      "  warn_deprecated(\n"
     ]
    }
   ],
   "source": [
    "template = (\n",
    "    \"Combine the chat history and follow up question into \"\n",
    "    \"a standalone question. Chat History: {chat_history}\"\n",
    "    \"Follow up question: {question}\"\n",
    ")\n",
    "prompt = PromptTemplate.from_template(template)\n",
    "# combine_doc_chain = StuffDocumentsChain()\n",
    "llm = ChatCohere(cohere_api_key=cohere_api_key , temperature=0)\n",
    "question_generator_chain = LLMChain(llm=llm, prompt=prompt)\n",
    "retriever = vectordb.as_retriever()\n",
    "# chain = ConversationalRetrievalChain(\n",
    "#     retriever=retriever,\n",
    "#     question_generator=question_generator_chain,\n",
    "# )"
   ]
  },
  {
   "cell_type": "code",
   "execution_count": 18,
   "metadata": {},
   "outputs": [
    {
     "name": "stdout",
     "output_type": "stream",
     "text": [
      "Requirement already satisfied: langchainhub in c:\\users\\dell\\appdata\\local\\packages\\pythonsoftwarefoundation.python.3.10_qbz5n2kfra8p0\\localcache\\local-packages\\python310\\site-packages (0.1.18)\n",
      "Requirement already satisfied: requests<3,>=2 in c:\\users\\dell\\appdata\\local\\packages\\pythonsoftwarefoundation.python.3.10_qbz5n2kfra8p0\\localcache\\local-packages\\python310\\site-packages (from langchainhub) (2.31.0)\n",
      "Requirement already satisfied: types-requests<3.0.0.0,>=2.31.0.2 in c:\\users\\dell\\appdata\\local\\packages\\pythonsoftwarefoundation.python.3.10_qbz5n2kfra8p0\\localcache\\local-packages\\python310\\site-packages (from langchainhub) (2.32.0.20240602)\n",
      "Requirement already satisfied: charset-normalizer<4,>=2 in c:\\users\\dell\\appdata\\local\\packages\\pythonsoftwarefoundation.python.3.10_qbz5n2kfra8p0\\localcache\\local-packages\\python310\\site-packages (from requests<3,>=2->langchainhub) (3.3.2)\n",
      "Requirement already satisfied: idna<4,>=2.5 in c:\\users\\dell\\appdata\\local\\packages\\pythonsoftwarefoundation.python.3.10_qbz5n2kfra8p0\\localcache\\local-packages\\python310\\site-packages (from requests<3,>=2->langchainhub) (3.6)\n",
      "Requirement already satisfied: urllib3<3,>=1.21.1 in c:\\users\\dell\\appdata\\local\\packages\\pythonsoftwarefoundation.python.3.10_qbz5n2kfra8p0\\localcache\\local-packages\\python310\\site-packages (from requests<3,>=2->langchainhub) (2.2.1)\n",
      "Requirement already satisfied: certifi>=2017.4.17 in c:\\users\\dell\\appdata\\local\\packages\\pythonsoftwarefoundation.python.3.10_qbz5n2kfra8p0\\localcache\\local-packages\\python310\\site-packages (from requests<3,>=2->langchainhub) (2024.2.2)\n"
     ]
    }
   ],
   "source": [
    "! pip install langchainhub"
   ]
  },
  {
   "cell_type": "code",
   "execution_count": 19,
   "metadata": {},
   "outputs": [],
   "source": [
    "rephrase_prompt = hub.pull(\"langchain-ai/chat-langchain-rephrase\")\n",
    "llm = ChatCohere(cohere_api_key=cohere_api_key, temperature=0)\n",
    "retriever = vectordb.as_retriever()\n",
    "chat_retriever_chain = create_history_aware_retriever(\n",
    "    llm = llm, retriever = retriever, prompt = rephrase_prompt\n",
    ")"
   ]
  },
  {
   "cell_type": "code",
   "execution_count": 20,
   "metadata": {},
   "outputs": [
    {
     "data": {
      "text/plain": [
       "[Document(page_content='and conservation.\\nQuantisation of electric charge means that total charge ( q) of a body\\nis always an integral multiple of a basic quantum of charge ( e) i.e.,\\nq = n e, where n = 0, ±1, ±2, ±3, .... Proton and electron have charges\\n+e, –e, respectively. For macroscopic charges for which n is a very large\\nnumber , quantisation of char ge can be ignor ed.\\nAdditivity of electric charges means that the total charge of a system\\nis the algebraic sum (i.e., the sum taking into account proper signs)\\nof all individual charges in the system.\\nConservation of electric charges means that the total charge of an\\nisolated system remains unchanged with time. This means that when\\n2024-25\\n2024-25', metadata={'page': 36, 'source': 'Light.pdf'}),\n",
       " Document(page_content='and conservation.\\nQuantisation of electric charge means that total charge ( q) of a body\\nis always an integral multiple of a basic quantum of charge ( e) i.e.,\\nq = n e, where n = 0, ±1, ±2, ±3, .... Proton and electron have charges\\n+e, –e, respectively. For macroscopic charges for which n is a very large\\nnumber , quantisation of char ge can be ignor ed.\\nAdditivity of electric charges means that the total charge of a system\\nis the algebraic sum (i.e., the sum taking into account proper signs)\\nof all individual charges in the system.\\nConservation of electric charges means that the total charge of an\\nisolated system remains unchanged with time. This means that when\\n2024-25\\n2024-25', metadata={'page': 36, 'source': 'Light.pdf'}),\n",
       " Document(page_content='and conservation.\\nQuantisation of electric charge means that total charge ( q) of a body\\nis always an integral multiple of a basic quantum of charge ( e) i.e.,\\nq = n e, where n = 0, ±1, ±2, ±3, .... Proton and electron have charges\\n+e, –e, respectively. For macroscopic charges for which n is a very large\\nnumber , quantisation of char ge can be ignor ed.\\nAdditivity of electric charges means that the total charge of a system\\nis the algebraic sum (i.e., the sum taking into account proper signs)\\nof all individual charges in the system.\\nConservation of electric charges means that the total charge of an\\nisolated system remains unchanged with time. This means that when\\n2024-25\\n2024-25', metadata={'page': 36, 'source': 'Light.pdf'}),\n",
       " Document(page_content='6Physics\\n EXAMPLE  1.2  EXAMPLE  1.1each other normally give an impression of a continuous line, many\\nsmall charges taken together appear as a continuous charge distribution.\\nAt the macroscopic level, one deals with charges that are enormous\\ncompared to the magnitude of charge e . Since e = 1.6 × 10–19 C, a charge\\nof magnituOde, say 1 mC, contains something like 1013 times the electronic\\ncharge. At this scale, the fact that charge can increase or decrease only in\\nunits of e is not very different from saying that charge can take continuous\\nvalues. Thus, at the macroscopic level, the quantisation of charge has no\\npractical consequence and can be ignor ed. However , at the micr oscopic\\nlevel, where the charges involved are of the order of a few tens or hundreds\\nof e, i.e.,  they can be counted, they appear in discrete lumps and\\nquantisation of charge cannot be ignored. It is the magnitude of scale\\ninvolved that is very important.\\nExample 1.1  If 109 electrons move out of a body to another body', metadata={'page': 5, 'source': 'Light.pdf'})]"
      ]
     },
     "execution_count": 20,
     "metadata": {},
     "output_type": "execute_result"
    }
   ],
   "source": [
    "chat_retriever_chain.invoke({\"input\":\"What is Quantisation of charge?\"})"
   ]
  },
  {
   "cell_type": "code",
   "execution_count": 21,
   "metadata": {},
   "outputs": [
    {
     "data": {
      "text/plain": [
       "[Document(page_content='electricity through them. They are called insulators . Most  substances\\nfall into one of the two classes stated above *.\\nWhen some char ge is transferr ed to a conductor , it r eadily gets\\ndistributed over the entir e sur face of the conductor . In contrast, if some\\ncharge is put on an insulator , it stays at the same place. Y ou will lear n\\nwhy this happens in the next chapter .\\nThis property of the materials tells you why a nylon or plastic comb\\ngets electrified on combing dry hair or on rubbing, but a metal article\\n*There is a third category called semiconductors , which offer resistance to the\\nmovement of charges which is intermediate between the conductors and\\ninsulators.\\n2024-25\\n2024-25', metadata={'page': 2, 'source': 'Light.pdf'}),\n",
       " Document(page_content='electricity through them. They are called insulators . Most  substances\\nfall into one of the two classes stated above *.\\nWhen some char ge is transferr ed to a conductor , it r eadily gets\\ndistributed over the entir e sur face of the conductor . In contrast, if some\\ncharge is put on an insulator , it stays at the same place. Y ou will lear n\\nwhy this happens in the next chapter .\\nThis property of the materials tells you why a nylon or plastic comb\\ngets electrified on combing dry hair or on rubbing, but a metal article\\n*There is a third category called semiconductors , which offer resistance to the\\nmovement of charges which is intermediate between the conductors and\\ninsulators.\\n2024-25\\n2024-25', metadata={'page': 2, 'source': 'Light.pdf'}),\n",
       " Document(page_content='electricity through them. They are called insulators . Most  substances\\nfall into one of the two classes stated above *.\\nWhen some char ge is transferr ed to a conductor , it r eadily gets\\ndistributed over the entir e sur face of the conductor . In contrast, if some\\ncharge is put on an insulator , it stays at the same place. Y ou will lear n\\nwhy this happens in the next chapter .\\nThis property of the materials tells you why a nylon or plastic comb\\ngets electrified on combing dry hair or on rubbing, but a metal article\\n*There is a third category called semiconductors , which offer resistance to the\\nmovement of charges which is intermediate between the conductors and\\ninsulators.\\n2024-25\\n2024-25', metadata={'page': 2, 'source': 'Light.pdf'}),\n",
       " Document(page_content='with surface tension, all are basically electrical in nature, arising from the\\nforces between charged particles. Thus the electric force is all pervasive and\\nit encompasses almost each and every field associated with our life. It is\\ntherefore essential that we learn more about such a force.\\nTo electrify a neutral body, we need to add or remove one kind of\\ncharge. When we say that a body is charged, we always refer to this\\nexcess charge or deficit of charge. In solids,  some of the electrons, being\\nless tightly bound in the atom, are the charges which are transferred\\nfrom one body to the other .  A body can thus be char ged positively by\\nlosing some of its electrons. Similarly, a body can be charged negatively\\nby gaining electrons. When we rub a glass rod with silk, some of the\\nelectrons from the rod are transferred to the silk cloth. Thus the rod gets\\npositively charged and the silk gets negatively charged. No new charge is\\ncreated in the process of rubbing. Also the number of electrons, that are', metadata={'page': 2, 'source': 'Light.pdf'})]"
      ]
     },
     "execution_count": 21,
     "metadata": {},
     "output_type": "execute_result"
    }
   ],
   "source": [
    "chat_retriever_chain.invoke({\"input\":\"Give me specified and short answer.\"})"
   ]
  },
  {
   "cell_type": "code",
   "execution_count": 22,
   "metadata": {},
   "outputs": [],
   "source": [
    "from langchain.chains.question_answering import load_qa_chain\n",
    "from langchain.llms.cohere import Cohere"
   ]
  },
  {
   "cell_type": "code",
   "execution_count": 23,
   "metadata": {},
   "outputs": [
    {
     "name": "stderr",
     "output_type": "stream",
     "text": [
      "C:\\Users\\dell\\AppData\\Local\\Packages\\PythonSoftwareFoundation.Python.3.10_qbz5n2kfra8p0\\LocalCache\\local-packages\\Python310\\site-packages\\langchain_core\\_api\\deprecation.py:119: LangChainDeprecationWarning: The class `Cohere` was deprecated in LangChain 0.1.14 and will be removed in 0.3.0. An updated version of the class exists in the langchain-cohere package and should be used instead. To use it run `pip install -U langchain-cohere` and import as `from langchain_cohere import Cohere`.\n",
      "  warn_deprecated(\n"
     ]
    }
   ],
   "source": [
    "chain = load_qa_chain(Cohere(), chain_type=\"stuff\", verbose=True)"
   ]
  },
  {
   "cell_type": "code",
   "execution_count": 24,
   "metadata": {},
   "outputs": [
    {
     "name": "stderr",
     "output_type": "stream",
     "text": [
      "C:\\Users\\dell\\AppData\\Local\\Packages\\PythonSoftwareFoundation.Python.3.10_qbz5n2kfra8p0\\LocalCache\\local-packages\\Python310\\site-packages\\langchain_core\\_api\\deprecation.py:119: LangChainDeprecationWarning: The method `Chain.run` was deprecated in langchain 0.1.0 and will be removed in 0.3.0. Use invoke instead.\n",
      "  warn_deprecated(\n"
     ]
    },
    {
     "name": "stdout",
     "output_type": "stream",
     "text": [
      "\n",
      "\n",
      "\u001b[1m> Entering new StuffDocumentsChain chain...\u001b[0m\n",
      "\n",
      "\n",
      "\u001b[1m> Entering new LLMChain chain...\u001b[0m\n",
      "Prompt after formatting:\n",
      "\u001b[32;1m\u001b[1;3mUse the following pieces of context to answer the question at the end. If you don't know the answer, just say that you don't know, don't try to make up an answer.\n",
      "\n",
      "and conservation.\n",
      "Quantisation of electric charge means that total charge ( q) of a body\n",
      "is always an integral multiple of a basic quantum of charge ( e) i.e.,\n",
      "q = n e, where n = 0, ±1, ±2, ±3, .... Proton and electron have charges\n",
      "+e, –e, respectively. For macroscopic charges for which n is a very large\n",
      "number , quantisation of char ge can be ignor ed.\n",
      "Additivity of electric charges means that the total charge of a system\n",
      "is the algebraic sum (i.e., the sum taking into account proper signs)\n",
      "of all individual charges in the system.\n",
      "Conservation of electric charges means that the total charge of an\n",
      "isolated system remains unchanged with time. This means that when\n",
      "2024-25\n",
      "2024-25\n",
      "\n",
      "and conservation.\n",
      "Quantisation of electric charge means that total charge ( q) of a body\n",
      "is always an integral multiple of a basic quantum of charge ( e) i.e.,\n",
      "q = n e, where n = 0, ±1, ±2, ±3, .... Proton and electron have charges\n",
      "+e, –e, respectively. For macroscopic charges for which n is a very large\n",
      "number , quantisation of char ge can be ignor ed.\n",
      "Additivity of electric charges means that the total charge of a system\n",
      "is the algebraic sum (i.e., the sum taking into account proper signs)\n",
      "of all individual charges in the system.\n",
      "Conservation of electric charges means that the total charge of an\n",
      "isolated system remains unchanged with time. This means that when\n",
      "2024-25\n",
      "2024-25\n",
      "\n",
      "and conservation.\n",
      "Quantisation of electric charge means that total charge ( q) of a body\n",
      "is always an integral multiple of a basic quantum of charge ( e) i.e.,\n",
      "q = n e, where n = 0, ±1, ±2, ±3, .... Proton and electron have charges\n",
      "+e, –e, respectively. For macroscopic charges for which n is a very large\n",
      "number , quantisation of char ge can be ignor ed.\n",
      "Additivity of electric charges means that the total charge of a system\n",
      "is the algebraic sum (i.e., the sum taking into account proper signs)\n",
      "of all individual charges in the system.\n",
      "Conservation of electric charges means that the total charge of an\n",
      "isolated system remains unchanged with time. This means that when\n",
      "2024-25\n",
      "2024-25\n",
      "\n",
      "6Physics\n",
      " EXAMPLE  1.2  EXAMPLE  1.1each other normally give an impression of a continuous line, many\n",
      "small charges taken together appear as a continuous charge distribution.\n",
      "At the macroscopic level, one deals with charges that are enormous\n",
      "compared to the magnitude of charge e . Since e = 1.6 × 10–19 C, a charge\n",
      "of magnituOde, say 1 mC, contains something like 1013 times the electronic\n",
      "charge. At this scale, the fact that charge can increase or decrease only in\n",
      "units of e is not very different from saying that charge can take continuous\n",
      "values. Thus, at the macroscopic level, the quantisation of charge has no\n",
      "practical consequence and can be ignor ed. However , at the micr oscopic\n",
      "level, where the charges involved are of the order of a few tens or hundreds\n",
      "of e, i.e.,  they can be counted, they appear in discrete lumps and\n",
      "quantisation of charge cannot be ignored. It is the magnitude of scale\n",
      "involved that is very important.\n",
      "Example 1.1  If 109 electrons move out of a body to another body\n",
      "\n",
      "Question: what is Quantisation?\n",
      "Helpful Answer:\u001b[0m\n",
      "\n",
      "\u001b[1m> Finished chain.\u001b[0m\n",
      "\n",
      "\u001b[1m> Finished chain.\u001b[0m\n"
     ]
    },
    {
     "data": {
      "text/plain": [
       "\" Quantisation is the process of assigning specific discrete numerical values to certain physical quantities, such as electric charge. In the context of electric charge, quantisation means that the total charge of a body is always an integral multiple of a basic quantum of charge, denoted as e. This property arises from the nature of electromagnetic particles, such as electrons and protons, which have inherent discrete amounts of charge.\\n\\nIn simpler terms, quantisation implies that electric charge cannot be divided into smaller units indefinitely. It's similar to how money can only be divided into discrete amounts, such as pennies or cents, and you can't have a fraction of a penny or cent. In the provided context, electrons and protons have charges +e and –e, respectively, and these charges are intrinsic to these particles and cannot be altered.\\n\\nThe concept of quantisation is not limited to electric charge alone but is also applicable to other physical quantities, such as energy levels in atoms and the spin of elementary particles. It is a fundamental concept in quantum mechanics, which describes the behavior of particles and systems at the microscopic level, spanning from atoms to subatomic particles. \""
      ]
     },
     "execution_count": 24,
     "metadata": {},
     "output_type": "execute_result"
    }
   ],
   "source": [
    "query1 =  \"what is Quantisation?\"\n",
    "docs = vectordb.similarity_search(query1)\n",
    "chain.run(input_documents = docs, question = query1)"
   ]
  },
  {
   "cell_type": "markdown",
   "metadata": {},
   "source": [
    "### Memory management:"
   ]
  },
  {
   "cell_type": "code",
   "execution_count": 25,
   "metadata": {},
   "outputs": [],
   "source": [
    "from langchain.chains.conversation.memory import ConversationBufferMemory, ConversationKGMemory\n",
    "from langchain.chains import ConversationChain\n",
    "from langchain.prompts.prompt import PromptTemplate"
   ]
  },
  {
   "cell_type": "code",
   "execution_count": 26,
   "metadata": {},
   "outputs": [],
   "source": [
    "template = \"\"\"The following is a friendly conversation between a human and an AI. The AI is talkative and provides lots of specific details from its context. \n",
    "If the AI does not know the answer to a question, it truthfully says it does not know. The AI ONLY uses information contained in the \"Relevant Information\" section and does not hallucinate.\n",
    "\n",
    "Relevant Information:\n",
    "\n",
    "{history}\n",
    "\n",
    "Conversation:\n",
    "Human: {input}\n",
    "AI:\"\"\"\n",
    "prompt = PromptTemplate(\n",
    "    input_variables=[\"history\", \"input\"], template=template\n",
    ")"
   ]
  },
  {
   "cell_type": "code",
   "execution_count": 27,
   "metadata": {},
   "outputs": [],
   "source": [
    "llm = ChatCohere(cohere_api_key=cohere_api_key,\n",
    "             temperature=0, \n",
    "             max_tokens = 256)"
   ]
  },
  {
   "cell_type": "code",
   "execution_count": 28,
   "metadata": {},
   "outputs": [],
   "source": [
    "memory = ConversationBufferMemory()"
   ]
  },
  {
   "cell_type": "code",
   "execution_count": 29,
   "metadata": {},
   "outputs": [],
   "source": [
    "new_memory = ConversationKGMemory(llm=llm)"
   ]
  },
  {
   "cell_type": "code",
   "execution_count": 30,
   "metadata": {},
   "outputs": [],
   "source": [
    "conversation = ConversationChain(\n",
    "    llm=llm, \n",
    "    verbose=True,\n",
    "    # memory = memory, \n",
    "    memory=new_memory,\n",
    "    prompt = prompt\n",
    ")"
   ]
  },
  {
   "cell_type": "code",
   "execution_count": 31,
   "metadata": {},
   "outputs": [
    {
     "name": "stdout",
     "output_type": "stream",
     "text": [
      "\n",
      "\n",
      "\u001b[1m> Entering new ConversationChain chain...\u001b[0m\n",
      "Prompt after formatting:\n",
      "\u001b[32;1m\u001b[1;3mThe following is a friendly conversation between a human and an AI. The AI is talkative and provides lots of specific details from its context. \n",
      "If the AI does not know the answer to a question, it truthfully says it does not know. The AI ONLY uses information contained in the \"Relevant Information\" section and does not hallucinate.\n",
      "\n",
      "Relevant Information:\n",
      "\n",
      "\n",
      "\n",
      "Conversation:\n",
      "Human: Hi there! I am Anurag\n",
      "AI:\u001b[0m\n",
      "\n",
      "\u001b[1m> Finished chain.\u001b[0m\n"
     ]
    },
    {
     "data": {
      "text/plain": [
       "\"AI: Hello Anurag! It's a pleasure to meet you. I'm an AI assistant chatbot trained to assist and provide helpful and thorough responses. How can I help you today? Feel free to ask me anything, and I'll do my best to provide a detailed response based on the information I have.\""
      ]
     },
     "execution_count": 31,
     "metadata": {},
     "output_type": "execute_result"
    }
   ],
   "source": [
    "conversation.predict(input=\"Hi there! I am Anurag\")"
   ]
  },
  {
   "cell_type": "code",
   "execution_count": 36,
   "metadata": {},
   "outputs": [
    {
     "name": "stdout",
     "output_type": "stream",
     "text": [
      "\n",
      "\n",
      "\u001b[1m> Entering new ConversationChain chain...\u001b[0m\n",
      "Prompt after formatting:\n",
      "\u001b[32;1m\u001b[1;3mThe following is a friendly conversation between a human and an AI. The AI is talkative and provides lots of specific details from its context. \n",
      "If the AI does not know the answer to a question, it truthfully says it does not know. The AI ONLY uses information contained in the \"Relevant Information\" section and does not hallucinate.\n",
      "\n",
      "Relevant Information:\n",
      "\n",
      "\n",
      "\n",
      "Conversation:\n",
      "Human: what is my name?\n",
      "AI:\u001b[0m\n",
      "\n",
      "\u001b[1m> Finished chain.\u001b[0m\n"
     ]
    },
    {
     "data": {
      "text/plain": [
       "'I don\\'t know your name, unfortunately. I can only provide information based on the \"Relevant Information\" section, and it doesn\\'t contain any names. Is there anything else I can help you with?'"
      ]
     },
     "execution_count": 36,
     "metadata": {},
     "output_type": "execute_result"
    }
   ],
   "source": [
    "conversation.predict(input=\"what is my name?\")"
   ]
  },
  {
   "cell_type": "code",
   "execution_count": 33,
   "metadata": {},
   "outputs": [
    {
     "name": "stdout",
     "output_type": "stream",
     "text": [
      "\n",
      "\n",
      "\u001b[1m> Entering new ConversationChain chain...\u001b[0m\n",
      "Prompt after formatting:\n",
      "\u001b[32;1m\u001b[1;3mThe following is a friendly conversation between a human and an AI. The AI is talkative and provides lots of specific details from its context. \n",
      "If the AI does not know the answer to a question, it truthfully says it does not know. The AI ONLY uses information contained in the \"Relevant Information\" section and does not hallucinate.\n",
      "\n",
      "Relevant Information:\n",
      "\n",
      "\n",
      "\n",
      "Conversation:\n",
      "Human: Give me the information of Pune city\n",
      "AI:\u001b[0m\n",
      "\n",
      "\u001b[1m> Finished chain.\u001b[0m\n"
     ]
    },
    {
     "data": {
      "text/plain": [
       "\"Sure! Pune is a vibrant city located in the Indian state of Maharashtra. It is known for its pleasant climate, lush green surroundings, and rich cultural heritage. Here are some key facts and figures about Pune: \\n\\n- Population: Pune is Maharashtra's second-largest city and one of the major cities in India, with a population of over 3.1 million people as per the 2011 census. The city has been experiencing rapid urbanization and growth, with an estimated population of over 7 million in the Pune Metropolitan Region as of 2020. \\n\\n- Geography and Climate: Pune enjoys a unique geographical location, situated about 560 meters above sea level on the Deccan plateau. It is surrounded by the Sahyadri mountain range, providing a picturesque backdrop to the city. The city experiences a tropical wet and dry climate, with pleasant weather throughout the year. The average temperature during summers ranges from 20°C to 35°C, while winters are mild with temperatures rarely dipping below 10°C. \\n\\n- History and Culture: Pune has a rich historical and cultural heritage. It was once the seat of the powerful Maratha Empire, founded by Shivaji Maharaj in the 17th century. The city played a significant role in India's freedom struggle and was home to many prominent leaders, including Mahatma Gandhi, who established one of his ashrams here. Pune is often referred to as the 'Oxford of the East' due to the presence of numerous educational institutions, including the prestigious Savitribai Phule Pune University. \\n\\n- Economy and Industries: Pune has transformed into a major industrial hub over the years, with a diverse economic base. The city is known for its automotive, manufacturing, IT, and education sectors. It is home to several well-known automotive companies, including Tata Motors, Mahindra & Mahindra, and Bajaj Auto. Pune also has a strong presence in the IT industry, with many tech parks and startups, contributing to its reputation as an emerging innovation hub. \\n\\n- Tourism: Pune offers a range of tourist attractions, including historical forts, temples, museums, and natural getaways. Some popular destinations include the Aga Khan Palace, Shaniwar Wada, Parvati Hill, Raja Dinkar Kelkar Museum, and the Osho International Meditation Resort. The city also serves as a convenient base for exploring nearby hill stations like Lonavala and Khandala. \\n\\n- Transportation and Connectivity: Pune is well-connected to other major cities in India through various modes of transportation. The Pune International Airport offers direct flights to several domestic and international destinations. The city has a robust network of roads and highways, and it is also connected to the Indian Railways network, with the Pune Junction being a major railway station in the region. \\n\\nThese are just a few highlights of Pune city, and there's much more to explore and discover!\""
      ]
     },
     "execution_count": 33,
     "metadata": {},
     "output_type": "execute_result"
    }
   ],
   "source": [
    "conversation.predict(input=\"Give me the information of Pune city\")"
   ]
  },
  {
   "cell_type": "code",
   "execution_count": 34,
   "metadata": {},
   "outputs": [
    {
     "name": "stdout",
     "output_type": "stream",
     "text": [
      "\n",
      "\n",
      "\u001b[1m> Entering new ConversationChain chain...\u001b[0m\n",
      "Prompt after formatting:\n",
      "\u001b[32;1m\u001b[1;3mThe following is a friendly conversation between a human and an AI. The AI is talkative and provides lots of specific details from its context. \n",
      "If the AI does not know the answer to a question, it truthfully says it does not know. The AI ONLY uses information contained in the \"Relevant Information\" section and does not hallucinate.\n",
      "\n",
      "Relevant Information:\n",
      "\n",
      "\n",
      "\n",
      "Conversation:\n",
      "Human: give me the landmarks and attractions only\n",
      "AI:\u001b[0m\n"
     ]
    },
    {
     "ename": "TooManyRequestsError",
     "evalue": "status_code: 429, body: data=None",
     "output_type": "error",
     "traceback": [
      "\u001b[1;31m---------------------------------------------------------------------------\u001b[0m",
      "\u001b[1;31mTooManyRequestsError\u001b[0m                      Traceback (most recent call last)",
      "Input \u001b[1;32mIn [34]\u001b[0m, in \u001b[0;36m<cell line: 1>\u001b[1;34m()\u001b[0m\n\u001b[1;32m----> 1\u001b[0m \u001b[43mconversation\u001b[49m\u001b[38;5;241;43m.\u001b[39;49m\u001b[43mpredict\u001b[49m\u001b[43m(\u001b[49m\u001b[38;5;28;43minput\u001b[39;49m\u001b[38;5;241;43m=\u001b[39;49m\u001b[38;5;124;43m\"\u001b[39;49m\u001b[38;5;124;43mgive me the landmarks and attractions only\u001b[39;49m\u001b[38;5;124;43m\"\u001b[39;49m\u001b[43m)\u001b[49m\n",
      "File \u001b[1;32m~\\AppData\\Local\\Packages\\PythonSoftwareFoundation.Python.3.10_qbz5n2kfra8p0\\LocalCache\\local-packages\\Python310\\site-packages\\langchain\\chains\\llm.py:316\u001b[0m, in \u001b[0;36mLLMChain.predict\u001b[1;34m(self, callbacks, **kwargs)\u001b[0m\n\u001b[0;32m    301\u001b[0m \u001b[38;5;28;01mdef\u001b[39;00m \u001b[38;5;21mpredict\u001b[39m(\u001b[38;5;28mself\u001b[39m, callbacks: Callbacks \u001b[38;5;241m=\u001b[39m \u001b[38;5;28;01mNone\u001b[39;00m, \u001b[38;5;241m*\u001b[39m\u001b[38;5;241m*\u001b[39mkwargs: Any) \u001b[38;5;241m-\u001b[39m\u001b[38;5;241m>\u001b[39m \u001b[38;5;28mstr\u001b[39m:\n\u001b[0;32m    302\u001b[0m \u001b[38;5;250m    \u001b[39m\u001b[38;5;124;03m\"\"\"Format prompt with kwargs and pass to LLM.\u001b[39;00m\n\u001b[0;32m    303\u001b[0m \n\u001b[0;32m    304\u001b[0m \u001b[38;5;124;03m    Args:\u001b[39;00m\n\u001b[1;32m   (...)\u001b[0m\n\u001b[0;32m    314\u001b[0m \u001b[38;5;124;03m            completion = llm.predict(adjective=\"funny\")\u001b[39;00m\n\u001b[0;32m    315\u001b[0m \u001b[38;5;124;03m    \"\"\"\u001b[39;00m\n\u001b[1;32m--> 316\u001b[0m     \u001b[38;5;28;01mreturn\u001b[39;00m \u001b[38;5;28;43mself\u001b[39;49m\u001b[43m(\u001b[49m\u001b[43mkwargs\u001b[49m\u001b[43m,\u001b[49m\u001b[43m \u001b[49m\u001b[43mcallbacks\u001b[49m\u001b[38;5;241;43m=\u001b[39;49m\u001b[43mcallbacks\u001b[49m\u001b[43m)\u001b[49m[\u001b[38;5;28mself\u001b[39m\u001b[38;5;241m.\u001b[39moutput_key]\n",
      "File \u001b[1;32m~\\AppData\\Local\\Packages\\PythonSoftwareFoundation.Python.3.10_qbz5n2kfra8p0\\LocalCache\\local-packages\\Python310\\site-packages\\langchain_core\\_api\\deprecation.py:148\u001b[0m, in \u001b[0;36mdeprecated.<locals>.deprecate.<locals>.warning_emitting_wrapper\u001b[1;34m(*args, **kwargs)\u001b[0m\n\u001b[0;32m    146\u001b[0m     warned \u001b[38;5;241m=\u001b[39m \u001b[38;5;28;01mTrue\u001b[39;00m\n\u001b[0;32m    147\u001b[0m     emit_warning()\n\u001b[1;32m--> 148\u001b[0m \u001b[38;5;28;01mreturn\u001b[39;00m wrapped(\u001b[38;5;241m*\u001b[39margs, \u001b[38;5;241m*\u001b[39m\u001b[38;5;241m*\u001b[39mkwargs)\n",
      "File \u001b[1;32m~\\AppData\\Local\\Packages\\PythonSoftwareFoundation.Python.3.10_qbz5n2kfra8p0\\LocalCache\\local-packages\\Python310\\site-packages\\langchain\\chains\\base.py:383\u001b[0m, in \u001b[0;36mChain.__call__\u001b[1;34m(self, inputs, return_only_outputs, callbacks, tags, metadata, run_name, include_run_info)\u001b[0m\n\u001b[0;32m    351\u001b[0m \u001b[38;5;250m\u001b[39m\u001b[38;5;124;03m\"\"\"Execute the chain.\u001b[39;00m\n\u001b[0;32m    352\u001b[0m \n\u001b[0;32m    353\u001b[0m \u001b[38;5;124;03mArgs:\u001b[39;00m\n\u001b[1;32m   (...)\u001b[0m\n\u001b[0;32m    374\u001b[0m \u001b[38;5;124;03m        `Chain.output_keys`.\u001b[39;00m\n\u001b[0;32m    375\u001b[0m \u001b[38;5;124;03m\"\"\"\u001b[39;00m\n\u001b[0;32m    376\u001b[0m config \u001b[38;5;241m=\u001b[39m {\n\u001b[0;32m    377\u001b[0m     \u001b[38;5;124m\"\u001b[39m\u001b[38;5;124mcallbacks\u001b[39m\u001b[38;5;124m\"\u001b[39m: callbacks,\n\u001b[0;32m    378\u001b[0m     \u001b[38;5;124m\"\u001b[39m\u001b[38;5;124mtags\u001b[39m\u001b[38;5;124m\"\u001b[39m: tags,\n\u001b[0;32m    379\u001b[0m     \u001b[38;5;124m\"\u001b[39m\u001b[38;5;124mmetadata\u001b[39m\u001b[38;5;124m\"\u001b[39m: metadata,\n\u001b[0;32m    380\u001b[0m     \u001b[38;5;124m\"\u001b[39m\u001b[38;5;124mrun_name\u001b[39m\u001b[38;5;124m\"\u001b[39m: run_name,\n\u001b[0;32m    381\u001b[0m }\n\u001b[1;32m--> 383\u001b[0m \u001b[38;5;28;01mreturn\u001b[39;00m \u001b[38;5;28;43mself\u001b[39;49m\u001b[38;5;241;43m.\u001b[39;49m\u001b[43minvoke\u001b[49m\u001b[43m(\u001b[49m\n\u001b[0;32m    384\u001b[0m \u001b[43m    \u001b[49m\u001b[43minputs\u001b[49m\u001b[43m,\u001b[49m\n\u001b[0;32m    385\u001b[0m \u001b[43m    \u001b[49m\u001b[43mcast\u001b[49m\u001b[43m(\u001b[49m\u001b[43mRunnableConfig\u001b[49m\u001b[43m,\u001b[49m\u001b[43m \u001b[49m\u001b[43m{\u001b[49m\u001b[43mk\u001b[49m\u001b[43m:\u001b[49m\u001b[43m \u001b[49m\u001b[43mv\u001b[49m\u001b[43m \u001b[49m\u001b[38;5;28;43;01mfor\u001b[39;49;00m\u001b[43m \u001b[49m\u001b[43mk\u001b[49m\u001b[43m,\u001b[49m\u001b[43m \u001b[49m\u001b[43mv\u001b[49m\u001b[43m \u001b[49m\u001b[38;5;129;43;01min\u001b[39;49;00m\u001b[43m \u001b[49m\u001b[43mconfig\u001b[49m\u001b[38;5;241;43m.\u001b[39;49m\u001b[43mitems\u001b[49m\u001b[43m(\u001b[49m\u001b[43m)\u001b[49m\u001b[43m \u001b[49m\u001b[38;5;28;43;01mif\u001b[39;49;00m\u001b[43m \u001b[49m\u001b[43mv\u001b[49m\u001b[43m \u001b[49m\u001b[38;5;129;43;01mis\u001b[39;49;00m\u001b[43m \u001b[49m\u001b[38;5;129;43;01mnot\u001b[39;49;00m\u001b[43m \u001b[49m\u001b[38;5;28;43;01mNone\u001b[39;49;00m\u001b[43m}\u001b[49m\u001b[43m)\u001b[49m\u001b[43m,\u001b[49m\n\u001b[0;32m    386\u001b[0m \u001b[43m    \u001b[49m\u001b[43mreturn_only_outputs\u001b[49m\u001b[38;5;241;43m=\u001b[39;49m\u001b[43mreturn_only_outputs\u001b[49m\u001b[43m,\u001b[49m\n\u001b[0;32m    387\u001b[0m \u001b[43m    \u001b[49m\u001b[43minclude_run_info\u001b[49m\u001b[38;5;241;43m=\u001b[39;49m\u001b[43minclude_run_info\u001b[49m\u001b[43m,\u001b[49m\n\u001b[0;32m    388\u001b[0m \u001b[43m\u001b[49m\u001b[43m)\u001b[49m\n",
      "File \u001b[1;32m~\\AppData\\Local\\Packages\\PythonSoftwareFoundation.Python.3.10_qbz5n2kfra8p0\\LocalCache\\local-packages\\Python310\\site-packages\\langchain\\chains\\base.py:166\u001b[0m, in \u001b[0;36mChain.invoke\u001b[1;34m(self, input, config, **kwargs)\u001b[0m\n\u001b[0;32m    164\u001b[0m \u001b[38;5;28;01mexcept\u001b[39;00m \u001b[38;5;167;01mBaseException\u001b[39;00m \u001b[38;5;28;01mas\u001b[39;00m e:\n\u001b[0;32m    165\u001b[0m     run_manager\u001b[38;5;241m.\u001b[39mon_chain_error(e)\n\u001b[1;32m--> 166\u001b[0m     \u001b[38;5;28;01mraise\u001b[39;00m e\n\u001b[0;32m    167\u001b[0m run_manager\u001b[38;5;241m.\u001b[39mon_chain_end(outputs)\n\u001b[0;32m    169\u001b[0m \u001b[38;5;28;01mif\u001b[39;00m include_run_info:\n",
      "File \u001b[1;32m~\\AppData\\Local\\Packages\\PythonSoftwareFoundation.Python.3.10_qbz5n2kfra8p0\\LocalCache\\local-packages\\Python310\\site-packages\\langchain\\chains\\base.py:156\u001b[0m, in \u001b[0;36mChain.invoke\u001b[1;34m(self, input, config, **kwargs)\u001b[0m\n\u001b[0;32m    153\u001b[0m \u001b[38;5;28;01mtry\u001b[39;00m:\n\u001b[0;32m    154\u001b[0m     \u001b[38;5;28mself\u001b[39m\u001b[38;5;241m.\u001b[39m_validate_inputs(inputs)\n\u001b[0;32m    155\u001b[0m     outputs \u001b[38;5;241m=\u001b[39m (\n\u001b[1;32m--> 156\u001b[0m         \u001b[38;5;28;43mself\u001b[39;49m\u001b[38;5;241;43m.\u001b[39;49m\u001b[43m_call\u001b[49m\u001b[43m(\u001b[49m\u001b[43minputs\u001b[49m\u001b[43m,\u001b[49m\u001b[43m \u001b[49m\u001b[43mrun_manager\u001b[49m\u001b[38;5;241;43m=\u001b[39;49m\u001b[43mrun_manager\u001b[49m\u001b[43m)\u001b[49m\n\u001b[0;32m    157\u001b[0m         \u001b[38;5;28;01mif\u001b[39;00m new_arg_supported\n\u001b[0;32m    158\u001b[0m         \u001b[38;5;28;01melse\u001b[39;00m \u001b[38;5;28mself\u001b[39m\u001b[38;5;241m.\u001b[39m_call(inputs)\n\u001b[0;32m    159\u001b[0m     )\n\u001b[0;32m    161\u001b[0m     final_outputs: Dict[\u001b[38;5;28mstr\u001b[39m, Any] \u001b[38;5;241m=\u001b[39m \u001b[38;5;28mself\u001b[39m\u001b[38;5;241m.\u001b[39mprep_outputs(\n\u001b[0;32m    162\u001b[0m         inputs, outputs, return_only_outputs\n\u001b[0;32m    163\u001b[0m     )\n\u001b[0;32m    164\u001b[0m \u001b[38;5;28;01mexcept\u001b[39;00m \u001b[38;5;167;01mBaseException\u001b[39;00m \u001b[38;5;28;01mas\u001b[39;00m e:\n",
      "File \u001b[1;32m~\\AppData\\Local\\Packages\\PythonSoftwareFoundation.Python.3.10_qbz5n2kfra8p0\\LocalCache\\local-packages\\Python310\\site-packages\\langchain\\chains\\llm.py:126\u001b[0m, in \u001b[0;36mLLMChain._call\u001b[1;34m(self, inputs, run_manager)\u001b[0m\n\u001b[0;32m    121\u001b[0m \u001b[38;5;28;01mdef\u001b[39;00m \u001b[38;5;21m_call\u001b[39m(\n\u001b[0;32m    122\u001b[0m     \u001b[38;5;28mself\u001b[39m,\n\u001b[0;32m    123\u001b[0m     inputs: Dict[\u001b[38;5;28mstr\u001b[39m, Any],\n\u001b[0;32m    124\u001b[0m     run_manager: Optional[CallbackManagerForChainRun] \u001b[38;5;241m=\u001b[39m \u001b[38;5;28;01mNone\u001b[39;00m,\n\u001b[0;32m    125\u001b[0m ) \u001b[38;5;241m-\u001b[39m\u001b[38;5;241m>\u001b[39m Dict[\u001b[38;5;28mstr\u001b[39m, \u001b[38;5;28mstr\u001b[39m]:\n\u001b[1;32m--> 126\u001b[0m     response \u001b[38;5;241m=\u001b[39m \u001b[38;5;28;43mself\u001b[39;49m\u001b[38;5;241;43m.\u001b[39;49m\u001b[43mgenerate\u001b[49m\u001b[43m(\u001b[49m\u001b[43m[\u001b[49m\u001b[43minputs\u001b[49m\u001b[43m]\u001b[49m\u001b[43m,\u001b[49m\u001b[43m \u001b[49m\u001b[43mrun_manager\u001b[49m\u001b[38;5;241;43m=\u001b[39;49m\u001b[43mrun_manager\u001b[49m\u001b[43m)\u001b[49m\n\u001b[0;32m    127\u001b[0m     \u001b[38;5;28;01mreturn\u001b[39;00m \u001b[38;5;28mself\u001b[39m\u001b[38;5;241m.\u001b[39mcreate_outputs(response)[\u001b[38;5;241m0\u001b[39m]\n",
      "File \u001b[1;32m~\\AppData\\Local\\Packages\\PythonSoftwareFoundation.Python.3.10_qbz5n2kfra8p0\\LocalCache\\local-packages\\Python310\\site-packages\\langchain\\chains\\llm.py:138\u001b[0m, in \u001b[0;36mLLMChain.generate\u001b[1;34m(self, input_list, run_manager)\u001b[0m\n\u001b[0;32m    136\u001b[0m callbacks \u001b[38;5;241m=\u001b[39m run_manager\u001b[38;5;241m.\u001b[39mget_child() \u001b[38;5;28;01mif\u001b[39;00m run_manager \u001b[38;5;28;01melse\u001b[39;00m \u001b[38;5;28;01mNone\u001b[39;00m\n\u001b[0;32m    137\u001b[0m \u001b[38;5;28;01mif\u001b[39;00m \u001b[38;5;28misinstance\u001b[39m(\u001b[38;5;28mself\u001b[39m\u001b[38;5;241m.\u001b[39mllm, BaseLanguageModel):\n\u001b[1;32m--> 138\u001b[0m     \u001b[38;5;28;01mreturn\u001b[39;00m \u001b[38;5;28mself\u001b[39m\u001b[38;5;241m.\u001b[39mllm\u001b[38;5;241m.\u001b[39mgenerate_prompt(\n\u001b[0;32m    139\u001b[0m         prompts,\n\u001b[0;32m    140\u001b[0m         stop,\n\u001b[0;32m    141\u001b[0m         callbacks\u001b[38;5;241m=\u001b[39mcallbacks,\n\u001b[0;32m    142\u001b[0m         \u001b[38;5;241m*\u001b[39m\u001b[38;5;241m*\u001b[39m\u001b[38;5;28mself\u001b[39m\u001b[38;5;241m.\u001b[39mllm_kwargs,\n\u001b[0;32m    143\u001b[0m     )\n\u001b[0;32m    144\u001b[0m \u001b[38;5;28;01melse\u001b[39;00m:\n\u001b[0;32m    145\u001b[0m     results \u001b[38;5;241m=\u001b[39m \u001b[38;5;28mself\u001b[39m\u001b[38;5;241m.\u001b[39mllm\u001b[38;5;241m.\u001b[39mbind(stop\u001b[38;5;241m=\u001b[39mstop, \u001b[38;5;241m*\u001b[39m\u001b[38;5;241m*\u001b[39m\u001b[38;5;28mself\u001b[39m\u001b[38;5;241m.\u001b[39mllm_kwargs)\u001b[38;5;241m.\u001b[39mbatch(\n\u001b[0;32m    146\u001b[0m         cast(List, prompts), {\u001b[38;5;124m\"\u001b[39m\u001b[38;5;124mcallbacks\u001b[39m\u001b[38;5;124m\"\u001b[39m: callbacks}\n\u001b[0;32m    147\u001b[0m     )\n",
      "File \u001b[1;32m~\\AppData\\Local\\Packages\\PythonSoftwareFoundation.Python.3.10_qbz5n2kfra8p0\\LocalCache\\local-packages\\Python310\\site-packages\\langchain_core\\language_models\\chat_models.py:599\u001b[0m, in \u001b[0;36mBaseChatModel.generate_prompt\u001b[1;34m(self, prompts, stop, callbacks, **kwargs)\u001b[0m\n\u001b[0;32m    591\u001b[0m \u001b[38;5;28;01mdef\u001b[39;00m \u001b[38;5;21mgenerate_prompt\u001b[39m(\n\u001b[0;32m    592\u001b[0m     \u001b[38;5;28mself\u001b[39m,\n\u001b[0;32m    593\u001b[0m     prompts: List[PromptValue],\n\u001b[1;32m   (...)\u001b[0m\n\u001b[0;32m    596\u001b[0m     \u001b[38;5;241m*\u001b[39m\u001b[38;5;241m*\u001b[39mkwargs: Any,\n\u001b[0;32m    597\u001b[0m ) \u001b[38;5;241m-\u001b[39m\u001b[38;5;241m>\u001b[39m LLMResult:\n\u001b[0;32m    598\u001b[0m     prompt_messages \u001b[38;5;241m=\u001b[39m [p\u001b[38;5;241m.\u001b[39mto_messages() \u001b[38;5;28;01mfor\u001b[39;00m p \u001b[38;5;129;01min\u001b[39;00m prompts]\n\u001b[1;32m--> 599\u001b[0m     \u001b[38;5;28;01mreturn\u001b[39;00m \u001b[38;5;28mself\u001b[39m\u001b[38;5;241m.\u001b[39mgenerate(prompt_messages, stop\u001b[38;5;241m=\u001b[39mstop, callbacks\u001b[38;5;241m=\u001b[39mcallbacks, \u001b[38;5;241m*\u001b[39m\u001b[38;5;241m*\u001b[39mkwargs)\n",
      "File \u001b[1;32m~\\AppData\\Local\\Packages\\PythonSoftwareFoundation.Python.3.10_qbz5n2kfra8p0\\LocalCache\\local-packages\\Python310\\site-packages\\langchain_core\\language_models\\chat_models.py:456\u001b[0m, in \u001b[0;36mBaseChatModel.generate\u001b[1;34m(self, messages, stop, callbacks, tags, metadata, run_name, run_id, **kwargs)\u001b[0m\n\u001b[0;32m    454\u001b[0m         \u001b[38;5;28;01mif\u001b[39;00m run_managers:\n\u001b[0;32m    455\u001b[0m             run_managers[i]\u001b[38;5;241m.\u001b[39mon_llm_error(e, response\u001b[38;5;241m=\u001b[39mLLMResult(generations\u001b[38;5;241m=\u001b[39m[]))\n\u001b[1;32m--> 456\u001b[0m         \u001b[38;5;28;01mraise\u001b[39;00m e\n\u001b[0;32m    457\u001b[0m flattened_outputs \u001b[38;5;241m=\u001b[39m [\n\u001b[0;32m    458\u001b[0m     LLMResult(generations\u001b[38;5;241m=\u001b[39m[res\u001b[38;5;241m.\u001b[39mgenerations], llm_output\u001b[38;5;241m=\u001b[39mres\u001b[38;5;241m.\u001b[39mllm_output)  \u001b[38;5;66;03m# type: ignore[list-item]\u001b[39;00m\n\u001b[0;32m    459\u001b[0m     \u001b[38;5;28;01mfor\u001b[39;00m res \u001b[38;5;129;01min\u001b[39;00m results\n\u001b[0;32m    460\u001b[0m ]\n\u001b[0;32m    461\u001b[0m llm_output \u001b[38;5;241m=\u001b[39m \u001b[38;5;28mself\u001b[39m\u001b[38;5;241m.\u001b[39m_combine_llm_outputs([res\u001b[38;5;241m.\u001b[39mllm_output \u001b[38;5;28;01mfor\u001b[39;00m res \u001b[38;5;129;01min\u001b[39;00m results])\n",
      "File \u001b[1;32m~\\AppData\\Local\\Packages\\PythonSoftwareFoundation.Python.3.10_qbz5n2kfra8p0\\LocalCache\\local-packages\\Python310\\site-packages\\langchain_core\\language_models\\chat_models.py:446\u001b[0m, in \u001b[0;36mBaseChatModel.generate\u001b[1;34m(self, messages, stop, callbacks, tags, metadata, run_name, run_id, **kwargs)\u001b[0m\n\u001b[0;32m    443\u001b[0m \u001b[38;5;28;01mfor\u001b[39;00m i, m \u001b[38;5;129;01min\u001b[39;00m \u001b[38;5;28menumerate\u001b[39m(messages):\n\u001b[0;32m    444\u001b[0m     \u001b[38;5;28;01mtry\u001b[39;00m:\n\u001b[0;32m    445\u001b[0m         results\u001b[38;5;241m.\u001b[39mappend(\n\u001b[1;32m--> 446\u001b[0m             \u001b[38;5;28mself\u001b[39m\u001b[38;5;241m.\u001b[39m_generate_with_cache(\n\u001b[0;32m    447\u001b[0m                 m,\n\u001b[0;32m    448\u001b[0m                 stop\u001b[38;5;241m=\u001b[39mstop,\n\u001b[0;32m    449\u001b[0m                 run_manager\u001b[38;5;241m=\u001b[39mrun_managers[i] \u001b[38;5;28;01mif\u001b[39;00m run_managers \u001b[38;5;28;01melse\u001b[39;00m \u001b[38;5;28;01mNone\u001b[39;00m,\n\u001b[0;32m    450\u001b[0m                 \u001b[38;5;241m*\u001b[39m\u001b[38;5;241m*\u001b[39mkwargs,\n\u001b[0;32m    451\u001b[0m             )\n\u001b[0;32m    452\u001b[0m         )\n\u001b[0;32m    453\u001b[0m     \u001b[38;5;28;01mexcept\u001b[39;00m \u001b[38;5;167;01mBaseException\u001b[39;00m \u001b[38;5;28;01mas\u001b[39;00m e:\n\u001b[0;32m    454\u001b[0m         \u001b[38;5;28;01mif\u001b[39;00m run_managers:\n",
      "File \u001b[1;32m~\\AppData\\Local\\Packages\\PythonSoftwareFoundation.Python.3.10_qbz5n2kfra8p0\\LocalCache\\local-packages\\Python310\\site-packages\\langchain_core\\language_models\\chat_models.py:671\u001b[0m, in \u001b[0;36mBaseChatModel._generate_with_cache\u001b[1;34m(self, messages, stop, run_manager, **kwargs)\u001b[0m\n\u001b[0;32m    669\u001b[0m \u001b[38;5;28;01melse\u001b[39;00m:\n\u001b[0;32m    670\u001b[0m     \u001b[38;5;28;01mif\u001b[39;00m inspect\u001b[38;5;241m.\u001b[39msignature(\u001b[38;5;28mself\u001b[39m\u001b[38;5;241m.\u001b[39m_generate)\u001b[38;5;241m.\u001b[39mparameters\u001b[38;5;241m.\u001b[39mget(\u001b[38;5;124m\"\u001b[39m\u001b[38;5;124mrun_manager\u001b[39m\u001b[38;5;124m\"\u001b[39m):\n\u001b[1;32m--> 671\u001b[0m         result \u001b[38;5;241m=\u001b[39m \u001b[38;5;28mself\u001b[39m\u001b[38;5;241m.\u001b[39m_generate(\n\u001b[0;32m    672\u001b[0m             messages, stop\u001b[38;5;241m=\u001b[39mstop, run_manager\u001b[38;5;241m=\u001b[39mrun_manager, \u001b[38;5;241m*\u001b[39m\u001b[38;5;241m*\u001b[39mkwargs\n\u001b[0;32m    673\u001b[0m         )\n\u001b[0;32m    674\u001b[0m     \u001b[38;5;28;01melse\u001b[39;00m:\n\u001b[0;32m    675\u001b[0m         result \u001b[38;5;241m=\u001b[39m \u001b[38;5;28mself\u001b[39m\u001b[38;5;241m.\u001b[39m_generate(messages, stop\u001b[38;5;241m=\u001b[39mstop, \u001b[38;5;241m*\u001b[39m\u001b[38;5;241m*\u001b[39mkwargs)\n",
      "File \u001b[1;32m~\\AppData\\Local\\Packages\\PythonSoftwareFoundation.Python.3.10_qbz5n2kfra8p0\\LocalCache\\local-packages\\Python310\\site-packages\\langchain_cohere\\chat_models.py:433\u001b[0m, in \u001b[0;36mChatCohere._generate\u001b[1;34m(self, messages, stop, run_manager, **kwargs)\u001b[0m\n\u001b[0;32m    428\u001b[0m     \u001b[38;5;28;01mreturn\u001b[39;00m generate_from_stream(stream_iter)\n\u001b[0;32m    430\u001b[0m request \u001b[38;5;241m=\u001b[39m get_cohere_chat_request(\n\u001b[0;32m    431\u001b[0m     messages, stop_sequences\u001b[38;5;241m=\u001b[39mstop, \u001b[38;5;241m*\u001b[39m\u001b[38;5;241m*\u001b[39m\u001b[38;5;28mself\u001b[39m\u001b[38;5;241m.\u001b[39m_default_params, \u001b[38;5;241m*\u001b[39m\u001b[38;5;241m*\u001b[39mkwargs\n\u001b[0;32m    432\u001b[0m )\n\u001b[1;32m--> 433\u001b[0m response \u001b[38;5;241m=\u001b[39m \u001b[38;5;28mself\u001b[39m\u001b[38;5;241m.\u001b[39mclient\u001b[38;5;241m.\u001b[39mchat(\u001b[38;5;241m*\u001b[39m\u001b[38;5;241m*\u001b[39mrequest)\n\u001b[0;32m    435\u001b[0m generation_info \u001b[38;5;241m=\u001b[39m \u001b[38;5;28mself\u001b[39m\u001b[38;5;241m.\u001b[39m_get_generation_info(response)\n\u001b[0;32m    436\u001b[0m \u001b[38;5;28;01mif\u001b[39;00m \u001b[38;5;124m\"\u001b[39m\u001b[38;5;124mtool_calls\u001b[39m\u001b[38;5;124m\"\u001b[39m \u001b[38;5;129;01min\u001b[39;00m generation_info:\n",
      "File \u001b[1;32m~\\AppData\\Local\\Packages\\PythonSoftwareFoundation.Python.3.10_qbz5n2kfra8p0\\LocalCache\\local-packages\\Python310\\site-packages\\cohere\\client.py:33\u001b[0m, in \u001b[0;36mvalidate_args.<locals>.wrapped\u001b[1;34m(*args, **kwargs)\u001b[0m\n\u001b[0;32m     31\u001b[0m \u001b[38;5;28;01mdef\u001b[39;00m \u001b[38;5;21mwrapped\u001b[39m(\u001b[38;5;241m*\u001b[39margs: typing\u001b[38;5;241m.\u001b[39mAny, \u001b[38;5;241m*\u001b[39m\u001b[38;5;241m*\u001b[39mkwargs: typing\u001b[38;5;241m.\u001b[39mAny) \u001b[38;5;241m-\u001b[39m\u001b[38;5;241m>\u001b[39m typing\u001b[38;5;241m.\u001b[39mAny:\n\u001b[0;32m     32\u001b[0m     check_fn(\u001b[38;5;241m*\u001b[39margs, \u001b[38;5;241m*\u001b[39m\u001b[38;5;241m*\u001b[39mkwargs)\n\u001b[1;32m---> 33\u001b[0m     \u001b[38;5;28;01mreturn\u001b[39;00m method(\u001b[38;5;241m*\u001b[39margs, \u001b[38;5;241m*\u001b[39m\u001b[38;5;241m*\u001b[39mkwargs)\n",
      "File \u001b[1;32m~\\AppData\\Local\\Packages\\PythonSoftwareFoundation.Python.3.10_qbz5n2kfra8p0\\LocalCache\\local-packages\\Python310\\site-packages\\cohere\\base_client.py:903\u001b[0m, in \u001b[0;36mBaseCohere.chat\u001b[1;34m(self, message, model, preamble, chat_history, conversation_id, prompt_truncation, connectors, search_queries_only, documents, citation_quality, temperature, max_tokens, max_input_tokens, k, p, seed, stop_sequences, frequency_penalty, presence_penalty, raw_prompting, return_prompt, tools, tool_results, force_single_step, response_format, request_options)\u001b[0m\n\u001b[0;32m    901\u001b[0m     \u001b[38;5;28;01mreturn\u001b[39;00m typing\u001b[38;5;241m.\u001b[39mcast(NonStreamedChatResponse, construct_type(type_\u001b[38;5;241m=\u001b[39mNonStreamedChatResponse, object_\u001b[38;5;241m=\u001b[39m_response\u001b[38;5;241m.\u001b[39mjson()))  \u001b[38;5;66;03m# type: ignore\u001b[39;00m\n\u001b[0;32m    902\u001b[0m \u001b[38;5;28;01mif\u001b[39;00m _response\u001b[38;5;241m.\u001b[39mstatus_code \u001b[38;5;241m==\u001b[39m \u001b[38;5;241m429\u001b[39m:\n\u001b[1;32m--> 903\u001b[0m     \u001b[38;5;28;01mraise\u001b[39;00m TooManyRequestsError(\n\u001b[0;32m    904\u001b[0m         typing\u001b[38;5;241m.\u001b[39mcast(TooManyRequestsErrorBody, construct_type(type_\u001b[38;5;241m=\u001b[39mTooManyRequestsErrorBody, object_\u001b[38;5;241m=\u001b[39m_response\u001b[38;5;241m.\u001b[39mjson()))  \u001b[38;5;66;03m# type: ignore\u001b[39;00m\n\u001b[0;32m    905\u001b[0m     )\n\u001b[0;32m    906\u001b[0m \u001b[38;5;28;01mtry\u001b[39;00m:\n\u001b[0;32m    907\u001b[0m     _response_json \u001b[38;5;241m=\u001b[39m _response\u001b[38;5;241m.\u001b[39mjson()\n",
      "\u001b[1;31mTooManyRequestsError\u001b[0m: status_code: 429, body: data=None"
     ]
    }
   ],
   "source": [
    "conversation.predict(input=\"give me the landmarks and attractions only\")"
   ]
  },
  {
   "cell_type": "code",
   "execution_count": null,
   "metadata": {},
   "outputs": [
    {
     "name": "stdout",
     "output_type": "stream",
     "text": [
      "Human: Hi there! I am Anurag\n",
      "AI: AI: Hello Anurag! It's a pleasure to meet you. I'm an AI assistant chatbot designed to provide helpful and thorough responses. How can I assist you today? Feel free to ask me anything, and I'll do my best to provide a detailed reply using the information I have access to.\n",
      "Human: How are you today?\n",
      "AI: I don't have feelings as an AI chatbot, but I'm always ready and eager to assist you with any queries or conversations you may have! How can I help you today?\n",
      "Human: My TV is broken and I need some customer assistance\n",
      "AI: AI: I'm sorry to hear that your TV is broken. I'd be happy to help you with customer assistance. Can you please provide me with some more details about the issue you're experiencing? Also, please note that to best help you, I will need the make and model of your TV.\n",
      "Human: Give me the information of Pune city\n",
      "AI: Sure! Pune is a vibrant city located in the Indian state of Maharashtra. It is known for its pleasant climate, lush green surroundings, and thriving educational and industrial sectors. Here are some key facts and figures about Pune: \n",
      "\n",
      "- Population: As of 2011, Pune's population was approximately 3.13 million, making it the second-most populous city in Maharashtra after Mumbai. The latest estimates suggest that the population has grown further, with the Pune Metropolitan Region having a population of over 7.5 million as of 2021. \n",
      "\n",
      "- Geography and Climate: Pune is situated on the Deccan Plateau, about 560 meters above sea level. It covers an area of about 720 square kilometers. The city enjoys a tropical wet and dry climate, with three main seasons: summer, monsoon, and winter. Summers can be hot and dry, while the monsoon season brings heavy rainfall between June and September. Winters are mild and pleasant. \n",
      "\n",
      "- History: Pune has a rich historical heritage. It was founded in the 18th century and served as the seat of the Peshwas, the prime ministers of the Maratha Empire. The city played a significant role in Indian history, particularly during the rise of the Maratha Empire and the Indian independence movement. \n",
      "\n",
      "- Educational Hub: Pune is renowned as an educational center in India, often referred to as the \"Oxford of the East.\" It is home to numerous prestigious educational institutions, including the University of Pune, established in 1948, and several well-known colleges and universities offering a range of academic programs. \n",
      "\n",
      "- Industrial and IT Hub: Pune has emerged as a major industrial and IT hub. It is home to a diverse range of industries, including automotive, manufacturing, information technology, and pharmaceuticals. Many multinational companies have set up bases in Pune, contributing to its economic growth and development. \n",
      "\n",
      "- Culture and Tourism: Pune boasts a rich cultural heritage with a blend of traditional and modern influences. It offers a variety of tourist attractions, including historical monuments, museums, temples, and gardens. Some popular destinations include Shaniwar Wada, Aga Khan Palace, Pataleshwar Cave Temple, and the Osho International Meditation Resort. \n",
      "\n",
      "- Transport and Connectivity: Pune is well-connected to other major cities in India by road, rail, and air. The Pune International Airport serves the city, offering domestic and international flights. The city also has a well-developed public transport system, including buses, auto-rickshaws, and a rapidly expanding metro network. \n",
      "\n",
      "These are just a few highlights of Pune city. It is a dynamic and rapidly growing urban center, offering a unique blend of history, culture, educational excellence, and industrial development.\n",
      "Human: Give me tourist locations from that city\n",
      "AI: Sure! Here are some tourist locations from the city of Seattle: \n",
      "\n",
      "- The Space Needle: An iconic observation tower offering panoramic views of the city, it's a symbol of Seattle and provides a unique perspective of the skyline, Mount Rainier, and Elliott Bay. \n",
      "\n",
      "- Pike Place Market: One of the oldest continuously running public farmers' markets in the United States, it's a great place to browse local produce, crafts, and goods while enjoying the lively atmosphere and buskers. \n",
      "\n",
      "- MoPOP: The Museum of Pop Culture, or MoPOP, celebrates popular culture through music, film, TV, and more. With interactive exhibits and a focus on contemporary entertainment, it's a fun and unique museum experience. \n",
      "\n",
      "- Pioneer Square: Seattle's oldest neighborhood, Pioneer Square, offers a glimpse into the city's history with its historic buildings, art galleries, and underground tours that explore the city's early foundations. \n",
      "\n",
      "- Seattle Waterfront: Stroll along Elliott Bay and enjoy the views, with attractions like the Great Wheel, Aquarium, and Pier 54, offering dining, shopping, and entertainment options. \n",
      "\n",
      "- Kerry Park: A small park in the Queen Anne neighborhood offers a classic postcard view of the city, with the Space Needle and Mount Rainier in the backdrop. \n",
      "\n",
      "- Chihuly Garden and Glass: An art museum showcasing the work of local artist Dale Chihuly, featuring vibrant and intricate glass sculptures in a beautiful garden and exhibition space. \n",
      "\n",
      "- Boeing Future of Flight: Located north of Seattle, this aviation center offers tours of the Boeing factory, providing an insight into aircraft production and a glimpse into the future of flight. \n",
      "\n",
      "- Woodland Park Zoo: With over 300 animal species and naturalistic habitats, the zoo offers a fun and educational experience, highlighting conservation and providing an enjoyable day out. \n",
      "\n",
      "- Mount Rainier National Park: Although not within the city limits, this national park is a popular day trip from Seattle, offering stunning scenery, hiking trails, and the chance to see the iconic Mount Rainier up close. \n",
      "\n",
      "These are just a few highlights, but Seattle has a lot to offer visitors with its blend of natural beauty, cultural attractions, and unique neighborhoods to explore.\n"
     ]
    }
   ],
   "source": [
    "print(conversation.memory.chat_memory)"
   ]
  },
  {
   "cell_type": "code",
   "execution_count": null,
   "metadata": {},
   "outputs": [],
   "source": []
  }
 ],
 "metadata": {
  "kernelspec": {
   "display_name": "Python 3",
   "language": "python",
   "name": "python3"
  },
  "language_info": {
   "codemirror_mode": {
    "name": "ipython",
    "version": 3
   },
   "file_extension": ".py",
   "mimetype": "text/x-python",
   "name": "python",
   "nbconvert_exporter": "python",
   "pygments_lexer": "ipython3",
   "version": "3.10.11"
  }
 },
 "nbformat": 4,
 "nbformat_minor": 2
}
