{
 "cells": [
  {
   "cell_type": "code",
   "execution_count": 3,
   "metadata": {},
   "outputs": [],
   "source": [
    "import dotenv\n",
    "import cohere\n",
    "import os"
   ]
  },
  {
   "cell_type": "code",
   "execution_count": 4,
   "metadata": {},
   "outputs": [],
   "source": [
    "from dotenv import load_dotenv, find_dotenv\n",
    "_ = load_dotenv(find_dotenv()) # read local .env file\n",
    "\n",
    "cohere.api_key  = os.environ['cohere_api_key']"
   ]
  },
  {
   "cell_type": "markdown",
   "metadata": {},
   "source": [
    "### document loader"
   ]
  },
  {
   "cell_type": "code",
   "execution_count": 5,
   "metadata": {},
   "outputs": [],
   "source": [
    "from langchain.document_loaders import PyPDFLoader\n",
    "loader = PyPDFLoader(\"MachineLearning-Lecture01.pdf\")\n",
    "pages = loader.load()"
   ]
  },
  {
   "cell_type": "code",
   "execution_count": 6,
   "metadata": {},
   "outputs": [
    {
     "data": {
      "text/plain": [
       "22"
      ]
     },
     "execution_count": 6,
     "metadata": {},
     "output_type": "execute_result"
    }
   ],
   "source": [
    "len(pages)"
   ]
  },
  {
   "cell_type": "code",
   "execution_count": 7,
   "metadata": {},
   "outputs": [
    {
     "name": "stdout",
     "output_type": "stream",
     "text": [
      "MachineLearning-Lecture01  \n",
      "Instructor (Andrew Ng):  Okay. Good morning. Welcome to CS229, the machine \n",
      "learning class. So what I wanna do today is ju st spend a little time going over the logistics \n",
      "of the class, and then we'll start to  talk a bit about machine learning.  \n",
      "By way of introduction, my name's  Andrew Ng and I'll be instru ctor for this class. And so \n",
      "I personally work in machine learning, and I' ve worked on it for about 15 years now, and \n",
      "I actually think that machine learning i\n"
     ]
    }
   ],
   "source": [
    "page = pages[0]\n",
    "print(page.page_content[0:500])\n",
    "#printed the content of page first 500 letters"
   ]
  },
  {
   "cell_type": "code",
   "execution_count": 8,
   "metadata": {},
   "outputs": [
    {
     "data": {
      "text/plain": [
       "{'source': 'MachineLearning-Lecture01.pdf', 'page': 0}"
      ]
     },
     "execution_count": 8,
     "metadata": {},
     "output_type": "execute_result"
    }
   ],
   "source": [
    "page.metadata"
   ]
  },
  {
   "cell_type": "markdown",
   "metadata": {},
   "source": [
    "### youtube data loader"
   ]
  },
  {
   "cell_type": "code",
   "execution_count": 9,
   "metadata": {},
   "outputs": [],
   "source": [
    "# #youtube data loader\n",
    "# from langchain.document_loaders.generic import GenericLoader\n",
    "# from langchain.document_loaders.blob_loaders.youtube_audio import YoutubeAudioLoader\n",
    "# from langchain.document_loaders.parsers import OpenAIWhisperParser\n",
    "# # openai subcription is invalid"
   ]
  },
  {
   "cell_type": "code",
   "execution_count": 10,
   "metadata": {},
   "outputs": [],
   "source": [
    "# ! pip install yt_dlp\n",
    "# ! pip install pydub"
   ]
  },
  {
   "cell_type": "code",
   "execution_count": 11,
   "metadata": {},
   "outputs": [],
   "source": [
    "# url=\"https://www.youtube.com/watch?v=jGwO_UgTS7I\"\n",
    "# save_dir=\"youtube/\"\n",
    "# loader = GenericLoader(\n",
    "#     YoutubeAudioLoader([url],save_dir), OpenAIWhisperParser\n",
    "# )\n",
    "# docs = loader.load()"
   ]
  },
  {
   "cell_type": "markdown",
   "metadata": {},
   "source": [
    "### URLs"
   ]
  },
  {
   "cell_type": "code",
   "execution_count": 12,
   "metadata": {},
   "outputs": [],
   "source": [
    "from langchain.document_loaders import WebBaseLoader\n",
    "loader = WebBaseLoader(\"https://python.langchain.com/v0.1/docs/integrations/chat/cohere/\")"
   ]
  },
  {
   "cell_type": "code",
   "execution_count": 13,
   "metadata": {},
   "outputs": [
    {
     "name": "stdout",
     "output_type": "stream",
     "text": [
      "\n",
      "\n",
      "\n",
      "\n",
      "\n",
      "Cohere | ü¶úÔ∏èüîó LangChain\n",
      "\n",
      "\n",
      "\n",
      "\n",
      "\n",
      "\n",
      "\n",
      "Skip to main contentLangChain v0.2 is out! You are currently viewing the old v0.1 docs. View the latest docs here.ComponentsIntegrationsGuidesAPI ReferenceMorePeopleVersioningContributingTemplatesCookbooksTutorialsYouTubev0.1v0.2v0.1ü¶úÔ∏èüîóLangSmithLangSmith DocsLangServe GitHubTemplates GitHubTemplates HubLangChain HubJS/TS Docsüí¨SearchProvidersProvidersAnthropicAWSGoogleHugging FaceMicrosoftOpenAIMoreComponentsChat modelsChat modelsAI21 LabsAlib\n"
     ]
    }
   ],
   "source": [
    "docs = loader.load()\n",
    "print(docs[0].page_content[:500])"
   ]
  },
  {
   "cell_type": "markdown",
   "metadata": {},
   "source": [
    "### Document splitting:"
   ]
  },
  {
   "cell_type": "code",
   "execution_count": 1,
   "metadata": {},
   "outputs": [],
   "source": [
    "from langchain.text_splitter import RecursiveCharacterTextSplitter, CharacterTextSplitter"
   ]
  },
  {
   "cell_type": "code",
   "execution_count": 2,
   "metadata": {},
   "outputs": [],
   "source": [
    "chunk_size = 26\n",
    "chunk_overlap = 4"
   ]
  },
  {
   "cell_type": "code",
   "execution_count": 3,
   "metadata": {},
   "outputs": [],
   "source": [
    "r_splitter = RecursiveCharacterTextSplitter(\n",
    "    chunk_size=chunk_size,\n",
    "    chunk_overlap=chunk_overlap\n",
    ")\n",
    "c_splitter = CharacterTextSplitter(\n",
    "    chunk_size=chunk_size,\n",
    "    chunk_overlap=chunk_overlap\n",
    ")"
   ]
  },
  {
   "cell_type": "code",
   "execution_count": 17,
   "metadata": {},
   "outputs": [
    {
     "data": {
      "text/plain": [
       "['abcdefghijklmnopqrstuvwxyz']"
      ]
     },
     "execution_count": 17,
     "metadata": {},
     "output_type": "execute_result"
    }
   ],
   "source": [
    "text1 = 'abcdefghijklmnopqrstuvwxyz'\n",
    "r_splitter.split_text(text1)"
   ]
  },
  {
   "cell_type": "code",
   "execution_count": 18,
   "metadata": {},
   "outputs": [
    {
     "data": {
      "text/plain": [
       "['abcdefghijklmnopqrstuvwxyz', 'wxyzabcdefg']"
      ]
     },
     "execution_count": 18,
     "metadata": {},
     "output_type": "execute_result"
    }
   ],
   "source": [
    "text2 = 'abcdefghijklmnopqrstuvwxyzabcdefg'\n",
    "r_splitter.split_text(text2)"
   ]
  },
  {
   "cell_type": "code",
   "execution_count": 19,
   "metadata": {},
   "outputs": [
    {
     "data": {
      "text/plain": [
       "['a b c d e f g h i j k l m',\n",
       " 'l m n o p q r s t u v w x',\n",
       " 'w x y z a b c d e f']"
      ]
     },
     "execution_count": 19,
     "metadata": {},
     "output_type": "execute_result"
    }
   ],
   "source": [
    "text3 = \"a b c d e f g h i j k l m n o p q r s t u v w x y z a b c d e f\"\n",
    "r_splitter.split_text(text3)"
   ]
  },
  {
   "cell_type": "code",
   "execution_count": 20,
   "metadata": {},
   "outputs": [
    {
     "data": {
      "text/plain": [
       "['a b c d e f g h i j k l m n o p q r s t u v w x y z a b c d e f']"
      ]
     },
     "execution_count": 20,
     "metadata": {},
     "output_type": "execute_result"
    }
   ],
   "source": [
    "c_splitter.split_text(text3)"
   ]
  },
  {
   "cell_type": "code",
   "execution_count": 21,
   "metadata": {},
   "outputs": [
    {
     "data": {
      "text/plain": [
       "['a b c d e f g h i j k l m',\n",
       " 'l m n o p q r s t u v w x',\n",
       " 'w x y z a b c d e f']"
      ]
     },
     "execution_count": 21,
     "metadata": {},
     "output_type": "execute_result"
    }
   ],
   "source": [
    "c_splitter = CharacterTextSplitter(\n",
    "    chunk_size=chunk_size,\n",
    "    chunk_overlap=chunk_overlap,\n",
    "    separator = ' '\n",
    ")\n",
    "c_splitter.split_text(text3)"
   ]
  },
  {
   "cell_type": "markdown",
   "metadata": {},
   "source": [
    "### Recursive splitting details\n",
    "\n",
    "`RecursiveCharacterTextSplitter` is recommended for generic text. "
   ]
  },
  {
   "cell_type": "code",
   "execution_count": 22,
   "metadata": {},
   "outputs": [],
   "source": [
    "some_text = \"\"\"When writing documents, writers will use document structure to group content. \\\n",
    "This can convey to the reader, which idea's are related. For example, closely related ideas \\\n",
    "are in sentances. Similar ideas are in paragraphs. Paragraphs form a document. \\n\\n  \\\n",
    "Paragraphs are often delimited with a carriage return or two carriage returns. \\\n",
    "Carriage returns are the \"backslash n\" you see embedded in this string. \\\n",
    "Sentences have a period at the end, but also, have a space.\\\n",
    "and words are separated by space.\"\"\""
   ]
  },
  {
   "cell_type": "code",
   "execution_count": 23,
   "metadata": {},
   "outputs": [
    {
     "data": {
      "text/plain": [
       "496"
      ]
     },
     "execution_count": 23,
     "metadata": {},
     "output_type": "execute_result"
    }
   ],
   "source": [
    "len(some_text)"
   ]
  },
  {
   "cell_type": "code",
   "execution_count": 24,
   "metadata": {},
   "outputs": [],
   "source": [
    "c_splitter = CharacterTextSplitter(\n",
    "    chunk_size=450,\n",
    "    chunk_overlap=0,\n",
    "    separator = ' '\n",
    ")\n",
    "r_splitter = RecursiveCharacterTextSplitter(\n",
    "    chunk_size=450,\n",
    "    chunk_overlap=0, \n",
    "    separators=[\"\\n\\n\", \"\\n\", \" \", \"\"]\n",
    ")"
   ]
  },
  {
   "cell_type": "code",
   "execution_count": 25,
   "metadata": {},
   "outputs": [
    {
     "data": {
      "text/plain": [
       "['When writing documents, writers will use document structure to group content. This can convey to the reader, which idea\\'s are related. For example, closely related ideas are in sentances. Similar ideas are in paragraphs. Paragraphs form a document. \\n\\n Paragraphs are often delimited with a carriage return or two carriage returns. Carriage returns are the \"backslash n\" you see embedded in this string. Sentences have a period at the end, but also,',\n",
       " 'have a space.and words are separated by space.']"
      ]
     },
     "execution_count": 25,
     "metadata": {},
     "output_type": "execute_result"
    }
   ],
   "source": [
    "c_splitter.split_text(some_text)"
   ]
  },
  {
   "cell_type": "code",
   "execution_count": 26,
   "metadata": {},
   "outputs": [
    {
     "data": {
      "text/plain": [
       "[\"When writing documents, writers will use document structure to group content. This can convey to the reader, which idea's are related. For example, closely related ideas are in sentances. Similar ideas are in paragraphs. Paragraphs form a document.\",\n",
       " 'Paragraphs are often delimited with a carriage return or two carriage returns. Carriage returns are the \"backslash n\" you see embedded in this string. Sentences have a period at the end, but also, have a space.and words are separated by space.']"
      ]
     },
     "execution_count": 26,
     "metadata": {},
     "output_type": "execute_result"
    }
   ],
   "source": [
    "r_splitter.split_text(some_text)"
   ]
  },
  {
   "cell_type": "code",
   "execution_count": 27,
   "metadata": {},
   "outputs": [
    {
     "data": {
      "text/plain": [
       "[\"When writing documents, writers will use document structure to group content. This can convey to the reader, which idea's are related. For example,\",\n",
       " 'closely related ideas are in sentances. Similar ideas are in paragraphs. Paragraphs form a document.',\n",
       " 'Paragraphs are often delimited with a carriage return or two carriage returns. Carriage returns are the \"backslash n\" you see embedded in this',\n",
       " 'string. Sentences have a period at the end, but also, have a space.and words are separated by space.']"
      ]
     },
     "execution_count": 27,
     "metadata": {},
     "output_type": "execute_result"
    }
   ],
   "source": [
    "r_splitter = RecursiveCharacterTextSplitter(\n",
    "    chunk_size=150,\n",
    "    chunk_overlap=0,\n",
    "    separators=[\"\\n\\n\", \"\\n\", \"\\. \", \" \", \"\"]\n",
    ")\n",
    "r_splitter.split_text(some_text)"
   ]
  },
  {
   "cell_type": "code",
   "execution_count": 28,
   "metadata": {},
   "outputs": [],
   "source": [
    "from langchain.document_loaders import PyPDFLoader\n",
    "loader = PyPDFLoader(\"MachineLearning-Lecture01.pdf\")\n",
    "pages = loader.load()"
   ]
  },
  {
   "cell_type": "code",
   "execution_count": 29,
   "metadata": {},
   "outputs": [],
   "source": [
    "from langchain.text_splitter import CharacterTextSplitter\n",
    "text_splitter = CharacterTextSplitter(\n",
    "    separator=\"\\n\",\n",
    "    chunk_size=1000,\n",
    "    chunk_overlap=150,\n",
    "    length_function=len\n",
    ") "
   ]
  },
  {
   "cell_type": "code",
   "execution_count": 30,
   "metadata": {},
   "outputs": [],
   "source": [
    "docs = text_splitter.split_documents(pages)"
   ]
  },
  {
   "cell_type": "code",
   "execution_count": 31,
   "metadata": {},
   "outputs": [
    {
     "data": {
      "text/plain": [
       "77"
      ]
     },
     "execution_count": 31,
     "metadata": {},
     "output_type": "execute_result"
    }
   ],
   "source": [
    "len(docs)"
   ]
  },
  {
   "cell_type": "code",
   "execution_count": 32,
   "metadata": {},
   "outputs": [
    {
     "data": {
      "text/plain": [
       "22"
      ]
     },
     "execution_count": 32,
     "metadata": {},
     "output_type": "execute_result"
    }
   ],
   "source": [
    "len(pages)"
   ]
  },
  {
   "cell_type": "code",
   "execution_count": 33,
   "metadata": {},
   "outputs": [],
   "source": [
    "# notion DB:\n",
    "from langchain.document_loaders import NotionDirectoryLoader\n",
    "loader = NotionDirectoryLoader(\"docs/Notion_DB\")\n",
    "notion_db = loader.load()"
   ]
  },
  {
   "cell_type": "markdown",
   "metadata": {},
   "source": [
    "### Token splitting\n",
    "\n",
    "We can also split on token count explicity, if we want.\n",
    "\n",
    "This can be useful because LLMs often have context windows designated in tokens.\n",
    "\n",
    "Tokens are often ~4 characters."
   ]
  },
  {
   "cell_type": "code",
   "execution_count": 34,
   "metadata": {},
   "outputs": [],
   "source": [
    "from langchain.text_splitter import TokenTextSplitter\n",
    "text_splitter = TokenTextSplitter(chunk_size=1, chunk_overlap=0)    "
   ]
  },
  {
   "cell_type": "code",
   "execution_count": 35,
   "metadata": {},
   "outputs": [
    {
     "data": {
      "text/plain": [
       "['foo', ' bar', ' b', 'az', 'zy', 'foo']"
      ]
     },
     "execution_count": 35,
     "metadata": {},
     "output_type": "execute_result"
    }
   ],
   "source": [
    "text1 = \"foo bar bazzyfoo\"\n",
    "text_splitter.split_text(text1)"
   ]
  },
  {
   "cell_type": "code",
   "execution_count": 36,
   "metadata": {},
   "outputs": [
    {
     "data": {
      "text/plain": [
       "Document(page_content='MachineLearning-Lecture01  \\n', metadata={'source': 'MachineLearning-Lecture01.pdf', 'page': 0})"
      ]
     },
     "execution_count": 36,
     "metadata": {},
     "output_type": "execute_result"
    }
   ],
   "source": [
    "text_splitter = TokenTextSplitter(chunk_size=10, chunk_overlap=0)\n",
    "docs = text_splitter.split_documents(pages)\n",
    "docs[0]"
   ]
  },
  {
   "cell_type": "code",
   "execution_count": 37,
   "metadata": {},
   "outputs": [
    {
     "data": {
      "text/plain": [
       "{'source': 'MachineLearning-Lecture01.pdf', 'page': 0}"
      ]
     },
     "execution_count": 37,
     "metadata": {},
     "output_type": "execute_result"
    }
   ],
   "source": [
    "pages[0].metadata"
   ]
  },
  {
   "cell_type": "markdown",
   "metadata": {},
   "source": [
    "### Context aware splitting\n",
    "\n",
    "Chunking aims to keep text with common context together.\n",
    "\n",
    "A text splitting often uses sentences or other delimiters to keep related text together but many documents (such as Markdown) have structure (headers) that can be explicitly used in splitting.\n",
    "\n",
    "We can use `MarkdownHeaderTextSplitter` to preserve header metadata in our chunks, as show below."
   ]
  },
  {
   "cell_type": "code",
   "execution_count": 38,
   "metadata": {},
   "outputs": [],
   "source": [
    "from langchain.text_splitter import MarkdownHeaderTextSplitter  "
   ]
  },
  {
   "cell_type": "code",
   "execution_count": 39,
   "metadata": {},
   "outputs": [],
   "source": [
    "markdown_document = \"\"\"# Title\\n\\n \\\n",
    "## Chapter 1\\n\\n \\\n",
    "Hi this is Jim\\n\\n Hi this is Joe\\n\\n \\\n",
    "### Section \\n\\n \\\n",
    "Hi this is Lance \\n\\n \n",
    "## Chapter 2\\n\\n \\\n",
    "Hi this is Molly\"\"\""
   ]
  },
  {
   "cell_type": "code",
   "execution_count": 40,
   "metadata": {},
   "outputs": [],
   "source": [
    "headers_to_split_on = [\n",
    "    (\"#\", \"Header 1\"),\n",
    "    (\"##\", \"Header 2\"),\n",
    "    (\"###\", \"Header 3\"),\n",
    "]"
   ]
  },
  {
   "cell_type": "code",
   "execution_count": 41,
   "metadata": {},
   "outputs": [],
   "source": [
    "markdown_splitter = MarkdownHeaderTextSplitter(headers_to_split_on=headers_to_split_on)\n",
    "md_header_split = markdown_splitter.split_text(markdown_document)"
   ]
  },
  {
   "cell_type": "code",
   "execution_count": 42,
   "metadata": {},
   "outputs": [
    {
     "data": {
      "text/plain": [
       "Document(page_content='Hi this is Jim  \\nHi this is Joe', metadata={'Header 1': 'Title', 'Header 2': 'Chapter 1'})"
      ]
     },
     "execution_count": 42,
     "metadata": {},
     "output_type": "execute_result"
    }
   ],
   "source": [
    "md_header_split[0]"
   ]
  },
  {
   "cell_type": "code",
   "execution_count": 43,
   "metadata": {},
   "outputs": [
    {
     "data": {
      "text/plain": [
       "Document(page_content='Hi this is Lance', metadata={'Header 1': 'Title', 'Header 2': 'Chapter 1', 'Header 3': 'Section'})"
      ]
     },
     "execution_count": 43,
     "metadata": {},
     "output_type": "execute_result"
    }
   ],
   "source": [
    "md_header_split[1]"
   ]
  },
  {
   "cell_type": "markdown",
   "metadata": {},
   "source": [
    "### Vectorspace and Embeddings"
   ]
  },
  {
   "cell_type": "code",
   "execution_count": 44,
   "metadata": {},
   "outputs": [],
   "source": [
    "from langchain.document_loaders import PyPDFLoader\n",
    "\n",
    "# Load PDF\n",
    "loaders = [\n",
    "    # Duplicate documents on purpose - messy data\n",
    "    PyPDFLoader(\"MachineLearning-Lecture01.pdf\"),\n",
    "    PyPDFLoader(\"MachineLearning-Lecture01.pdf\")\n",
    "]\n",
    "docs = []\n",
    "for loader in loaders:\n",
    "    docs.extend(loader.load())"
   ]
  },
  {
   "cell_type": "code",
   "execution_count": 45,
   "metadata": {},
   "outputs": [],
   "source": [
    "# Split\n",
    "from langchain.text_splitter import RecursiveCharacterTextSplitter\n",
    "text_splitter = RecursiveCharacterTextSplitter(\n",
    "    chunk_size = 1500,\n",
    "    chunk_overlap = 150\n",
    ")"
   ]
  },
  {
   "cell_type": "code",
   "execution_count": 46,
   "metadata": {},
   "outputs": [
    {
     "data": {
      "text/plain": [
       "114"
      ]
     },
     "execution_count": 46,
     "metadata": {},
     "output_type": "execute_result"
    }
   ],
   "source": [
    "splits = text_splitter.split_documents(docs)\n",
    "len(splits)"
   ]
  },
  {
   "cell_type": "markdown",
   "metadata": {},
   "source": [
    "## Embeddings\n",
    "Let's take our splits and embed them."
   ]
  },
  {
   "cell_type": "code",
   "execution_count": 47,
   "metadata": {},
   "outputs": [
    {
     "name": "stderr",
     "output_type": "stream",
     "text": [
      "C:\\Users\\dell\\AppData\\Local\\Packages\\PythonSoftwareFoundation.Python.3.10_qbz5n2kfra8p0\\LocalCache\\local-packages\\Python310\\site-packages\\langchain_core\\_api\\deprecation.py:119: LangChainDeprecationWarning: The class `CohereEmbeddings` was deprecated in LangChain 0.0.30 and will be removed in 0.3.0. An updated version of the class exists in the langchain-cohere package and should be used instead. To use it run `pip install -U langchain-cohere` and import as `from langchain_cohere import CohereEmbeddings`.\n",
      "  warn_deprecated(\n"
     ]
    }
   ],
   "source": [
    "from langchain.embeddings.cohere import CohereEmbeddings\n",
    "embedding = CohereEmbeddings()"
   ]
  },
  {
   "cell_type": "code",
   "execution_count": 48,
   "metadata": {},
   "outputs": [],
   "source": [
    "sentence1 = \"i like dogs\"\n",
    "sentence2 = \"i like canines\"\n",
    "sentence3 = \"the weather is ugly outside\""
   ]
  },
  {
   "cell_type": "code",
   "execution_count": 49,
   "metadata": {},
   "outputs": [],
   "source": [
    "embedding1 = embedding.embed_query(sentence1)\n",
    "embedding2 = embedding.embed_query(sentence2)\n",
    "embedding3 = embedding.embed_query(sentence3)"
   ]
  },
  {
   "cell_type": "code",
   "execution_count": 50,
   "metadata": {},
   "outputs": [
    {
     "name": "stdout",
     "output_type": "stream",
     "text": [
      "[0.80810547, 1.2441406, 1.9267578, 2.1894531, -0.7167969, -0.37426758, -0.36791992, -2.2421875, 0.84765625, -0.48632812, -0.26049805, 1.0302734, 0.40112305, -0.60009766, 2.7949219, -0.77734375, 2.7128906, 1.9609375, -0.27001953, -0.5253906, -1.0888672, 1.3710938, 1.5263672, -0.27270508, 1.3544922, -0.9433594, 0.8613281, -1.4765625, -0.5463867, 1.4560547, -0.94384766, 0.08984375, -2.4023438, 0.89404297, -2.2246094, 1.5820312, 1.8876953, -1.5380859, -0.7519531, 0.18737793, 0.18896484, 1.5039062, -0.046783447, -2.3730469, 1.2070312, -0.7211914, 0.0035800934, 1.6953125, -0.24450684, 2.1171875, 1.2021484, -1.2441406, 1.2724609, -0.040863037, 1.2929688, -2.4609375, -7.09375, 0.6118164, 0.6010742, -0.7368164, 0.69189453, -0.45507812, 0.6245117, 0.19445801, 0.1361084, 0.35131836, -1.9619141, -3.3125, 1.8251953, 0.7963867, 1.4619141, -0.44848633, 1.0146484, 0.53466797, -0.12756348, 1.546875, 1.7470703, 0.8745117, 0.025558472, 1.2255859, -1.2607422, 1.1416016, 0.16418457, 1.1376953, -1.0693359, -1.3388672, 2.0644531, 1.8310547, -0.24963379, 5.1289062, 0.62890625, 0.890625, 0.7832031, -0.08795166, -0.47729492, 3.1035156, 2.6132812, 1.7041016, -2.0214844, 2.3769531, 1.9179688, -0.62646484, 1.7578125, -2.6640625, 0.80322266, -1.9208984, -1.1464844, 0.65283203, -1.0673828, -0.21520996, -1.8164062, 0.8276367, -1.0820312, -0.23144531, 1.78125, 1.9375, 0.8125, 0.12207031, 0.22070312, -1.5351562, -1.2998047, 0.16223145, -1.1806641, -0.41601562, 1.3076172, -0.8491211, -0.8417969, -0.54248047, -2.484375, -1.3447266, 1.8037109, 0.0848999, 2.0546875, 1.21875, 0.0074882507, -0.043304443, -0.38354492, 1.5341797, -0.033813477, 1.4990234, 2.1074219, -1.59375, 1.0927734, 2.4589844, -1.1416016, -0.20056152, -1.6054688, 1.1005859, 1.0146484, -1.7851562, -0.19787598, -0.031402588, 0.9555664, 0.1776123, 1.5966797, 0.89697266, 1.3007812, -0.32421875, -0.21289062, 1.9609375, -1.8525391, 0.2163086, 0.83984375, 1.9716797, 0.40112305, 0.71533203, 0.09173584, 1.6669922, -2.8027344, -1.2607422, -0.83203125, 0.3359375, -1.1992188, -0.6542969, -0.6225586, -2.1074219, -0.14111328, -2.6035156, -0.46484375, 3.796875, 1.5166016, -0.47583008, -1.546875, 3.6347656, -0.3786621, 1.7490234, -0.85009766, -2.4511719, 3.03125, 0.74365234, 0.5332031, -1.0615234, 1.7158203, -1.7236328, -1.3369141, 0.66796875, -0.25512695, -3.3261719, 4.3867188, -1.0888672, 1.1474609, -0.9633789, -0.5566406, 0.24121094, 0.57177734, 2.1894531, -0.26098633, -1.2509766, 0.11279297, -0.66748047, -2.1015625, -2.0585938, -1.5634766, -0.6118164, -1.3173828, -2.3730469, 1.3544922, 3.0488281, 0.1932373, 0.8930664, 1.1591797, -0.5551758, 0.06781006, -1.5546875, 0.16589355, 0.9711914, -0.3557129, -1.4560547, 1.0039062, -1.3632812, 1.0009766, -2.1035156, 1.2558594, -0.80029297, 1.0107422, -3.6347656, -0.074279785, -0.4440918, -2.0097656, 2.2363281, 0.50683594, -1.1552734, -0.19006348, 0.24621582, -0.7246094, 0.47094727, 2.3515625, 1.7431641, -0.5180664, -2.9003906, 0.44799805, 1.1591797, 0.171875, -0.62158203, 0.11230469, -0.6347656, 0.26342773, -0.93408203, -1.3837891, -2.28125, -2.1933594, 0.33569336, 1.2011719, 0.24963379, 0.15429688, -0.22949219, -0.08673096, -0.79296875, -0.7963867, -0.52001953, 1.7470703, -0.51904297, 1.7216797, -1.2666016, -1.1845703, -0.71728516, -1.0576172, -0.59814453, 0.50390625, 0.9824219, 2.2089844, 0.29516602, -3.2597656, -0.5629883, -0.84375, -0.9975586, 0.11401367, 0.22509766, 1.2714844, -1.5361328, 0.9941406, 0.3347168, -0.75390625, -1.0732422, 0.89208984, -1.3212891, 0.1303711, -0.20568848, -0.53271484, -0.42456055, 1.2080078, 0.28686523, -1.2509766, -0.43164062, 2.9609375, -0.9550781, 0.11376953, 2.9746094, -0.82958984, 1.6826172, 1.7958984, 1.1152344, -0.46948242, -0.41870117, -1.2666016, 1.78125, -1.4716797, 2.2480469, 0.8491211, -0.7661133, -2.5371094, -0.95751953, 1.2119141, 0.20605469, -0.075683594, -0.10418701, 0.7055664, 0.87109375, -0.45825195, 0.765625, 3.109375, -1.0439453, -1.3037109, 0.62890625, -0.5332031, -1.0341797, -0.34960938, 0.6064453, 0.5805664, 1.2099609, 0.62158203, -1.6171875, -1.609375, 1.4179688, -0.49389648, -1.7919922, -0.063964844, 2.5917969, -0.27954102, -0.54541016, 0.7182617, 2.1347656, 2.359375, -1.0478516, 1.3212891, 1.6552734, 0.5800781, -2.1386719, 0.84375, 1.1630859, -0.021560669, -2.4863281, -0.7890625, 0.5048828, 0.9399414, 0.24511719, -0.050994873, 2.1152344, 2.3378906, -0.19665527, -0.26733398, -0.16320801, -0.8022461, 0.9926758, 1.6005859, 1.8388672, -1.0048828, -0.20605469, -0.6430664, -2.9765625, 1.7734375, -1.171875, -0.55371094, -0.56396484, -0.9379883, -0.78125, -0.20214844, -1.609375, -0.57958984, 2.0292969, 2.4160156, -2.4667969, 1.21875, -1.3623047, -0.99853516, -1.6171875, -0.62890625, -0.7553711, 0.5024414, -1.7041016, 0.5439453, 0.75146484, 0.28759766, 0.5234375, -0.5058594, 1.6728516, 0.46313477, 1.171875, 0.3684082, -0.2232666, -0.26831055, -0.00390625, 0.9057617, -0.40161133, 1.7548828, 1.8310547, -1.2724609, 2.5136719, 1.1445312, -0.42407227, 0.7944336, -0.13879395, -0.49145508, -0.26000977, -1.4648438, 1.3486328, 0.17883301, -1.1445312, 2.1542969, -0.15368652, 1.2275391, -0.2512207, -1.3701172, 0.13476562, 2.4707031, -0.8198242, 0.40356445, -2.421875, -2.9707031, 1.0478516, -0.03933716, -0.24255371, -2.3164062, -0.9980469, 0.46704102, 1.0595703, 0.4206543, -1.5888672, -1.0234375, -0.14953613, -2.8515625, 0.86865234, -0.33691406, -1.0478516, -1.0244141, 0.03189087, 1.6904297, -2.2167969, -0.8930664, -2.1796875, 1.609375, 1.8789062, -1.3583984, 0.04135132, -0.3239746, -1.5, -0.12902832, 1.3955078, 1.1689453, 0.67578125, -0.59814453, -1.6201172, 0.59716797, 1.0595703, 0.015625, 0.59765625, 0.11248779, 0.6435547, -2.8417969, -1.4267578, -0.9433594, 0.06100464, -1.5585938, 1.1845703, 0.055023193, -0.46679688, 0.5678711, 0.3720703, -1.3779297, -1.2626953, -1.5498047, -0.7133789, -0.5473633, 1.359375, 1.8828125, 0.6269531, 1.0820312, -0.93359375, -0.40649414, -1.1103516, -0.6303711, -1.7333984, -0.28808594, -0.19665527, 1.5078125, -4.4882812, 0.89453125, -0.7114258, -0.49829102, 4.9101562, 0.2614746, 1.1728516, -0.13659668, -1.4892578, -2.6386719, -2.4238281, -0.53271484, 0.13806152, 0.80029297, -0.40429688, 1.7373047, -3.6464844, -0.9296875, 0.08691406, -1.5419922, 3.9316406, -1.1630859, 0.453125, -0.43432617, -0.5493164, -5.0351562, -0.16796875, 0.8100586, 0.25512695, -2.6621094, -1.4013672, -2.1953125, 1.7060547, -0.24475098, 0.30981445, 2.1953125, -2.5097656, 0.44702148, 2.3886719, 1.6689453, -0.88916016, 1.2236328, 2.5390625, 0.09539795, 0.117248535, 0.72314453, 1.0244141, -0.024902344, 0.70166016, 0.20617676, -2.2304688, -0.72802734, 0.22229004, -2.8671875, -1.2216797, 0.041992188, 1.6171875, -1.0234375, -0.5214844, -1.390625, -2.4628906, -1.0351562, -0.67626953, -0.120788574, -2.7558594, 0.21777344, 0.15429688, -0.87890625, 0.77197266, 1.8916016, -1.4189453, 0.15393066, -0.18859863, -0.40014648, 1.875, -0.10449219, 2.9003906, -0.171875, 0.18017578, -1.3447266, -0.28173828, 0.17285156, -0.31445312, 0.9213867, -0.25024414, -1.2783203, 1.0166016, 0.18835449, -0.796875, 1.2900391, -0.9682617, -1.6611328, 0.76123047, -0.27954102, -1.4335938, -2.9550781, -0.19396973, 0.60302734, 0.97802734, -0.36645508, 0.6298828, 1.0498047, -1.5947266, 2.8886719, 2.1484375, 0.90283203, -0.7915039, -2.1875, 1.1279297, -1.1269531, -1.0576172, -0.06585693, -1.921875, 0.8354492, -0.4597168, 1.9560547, -1.5859375, 1.1162109, -0.07324219, -0.15991211, -0.048187256, -3.9238281, -3.5625, -0.3466797, -0.3713379, -0.027999878, -0.56689453, 2.3144531, -1.1210938, -1.0390625, 1.2197266, -0.004962921, 3.671875, -1.4921875, -1.3867188, -1.4804688, -1.875, -1.6240234, -1.6875, -0.015853882, 0.05142212, -0.875, -3.0722656, 2.1191406, 1.8310547, 0.8828125, 0.5410156, -0.43774414, -3.0566406, -2.7792969, -0.6928711, 1.2490234, -0.23425293, 0.018234253, 0.09375, 0.44628906, -1.8935547, -0.4658203, -0.9165039, -0.96484375, 0.05441284, 1.5546875, 4.0195312, -4.3007812, -2.5546875, -0.8823242, 0.7890625, 1.1357422, -0.82421875, 0.27563477, -1.1611328, -0.6694336, -0.6020508, -0.078430176, -1.1503906, 1.8388672, -1.1455078, -1.7851562, 1.1210938, -0.35864258, -0.92041016, -3.046875, -0.9946289, 1.5068359, 2.015625, 0.32714844, 1.5498047, -2.5839844, 1.2646484, -1.9697266, 0.036132812, -2.6464844, 1.4482422, -0.80859375, -0.008384705, -1.4951172, 0.69140625, 0.8491211, 2.0019531, 0.16589355, -0.099121094, -0.23425293, 0.7055664, -2.8652344, 0.36206055, -0.2800293, 0.7583008, -1.4326172, -1.1806641, 2.6875, -3.1953125, 2.6816406, 0.15820312, -1.6181641, -1.0615234, 1.2197266, -2.2675781, 0.83251953, -1.5195312, 0.12683105, -2.28125, 0.63134766, -0.64501953, -0.44726562, 1.0517578, -1.6533203, 1.8349609, -3.3046875, -0.8457031, -3.0175781, 4.1210938, 1.4736328, -3.359375, 0.73046875, 0.117004395, -3.5605469, 4.2617188, 0.90185547, 0.9902344, -1.5185547, -0.76708984, 0.9350586, -0.33520508, 0.7104492, 0.36743164, -0.094055176, 0.07861328, -0.56591797, -0.34179688, -1.4609375, 0.60302734, 0.22851562, -1.4638672, 1.7841797, 0.35131836, -0.19238281, -1.5322266, -0.76220703, -2.5703125, -1.4814453, 0.06185913, -0.61083984, -2.0703125, 1.4267578, -0.13830566, -1.6044922, 1.2412109, 0.60009766, -0.6040039, 0.33203125, -0.37231445, 0.0024414062, -1.0195312, -0.68408203, -1.2314453, 0.16540527, -2.1972656, 0.9746094, -0.015563965, -0.38964844, -0.026855469, 2.0644531, -1.0195312, 1.9365234, 1.5419922, -1.5126953, 1.1240234, -0.93408203, 2.1855469, -2.6289062, -1.1181641, -3.65625, -1.2070312, 2.5722656, -0.42895508, -1.1914062, -0.099121094, -0.6098633, -0.020339966, -1.7070312, -1.5556641, -0.9194336, 2.3027344, -1.0634766, 0.08380127, 1.7607422, -0.13415527, 0.82666016, -0.08026123, 1.2646484, 1.0820312, -0.96484375, 0.99560547, -0.47045898, -1.5810547, 0.34936523, 2.6621094, 0.5786133, -1.6982422, -0.43432617, -0.94091797, -0.111816406, 0.48046875, -0.3317871, -2.8652344, -0.10058594, 0.23669434, 0.4489746, -1.1816406, 1.0166016, -0.51416016, 0.6855469, -0.10211182, 0.58496094, 2.0839844, -3.1015625, 0.080078125, -1.6845703, -1.0537109, 0.026367188, -3.5800781, 0.22595215, 1.9267578, -1.8271484, -1.2568359, 1.0869141, 0.20251465, 1.15625, -0.59228516, -0.40942383, 0.83984375, 0.07281494, 2.1113281, -1.2080078, 1.6279297, 2.6777344, -0.9238281, -0.6098633, 1.1806641, -0.25805664, -2.0058594, -1.2900391, 0.69677734, -0.0053100586, 0.68896484, -2.2558594, 0.005645752, 0.82666016, -0.7524414, -1.34375, 1.4716797, 1.4228516, -1.1308594, 1.1494141, -0.5649414, 0.34594727, 1.5517578, -0.5097656, 2.0878906, 2.7636719, -0.68359375, -1.0478516, -0.15319824, 0.121276855, 1.1552734, -0.45581055, -0.14904785, 0.2163086, 3.5722656, 0.45043945, 1.0849609, 1.8388672, -1.4384766, 3.2089844, 2.8886719, 0.41967773, 1.1884766, -1.2919922, -0.5053711, 0.6303711, 1.625, -1.9384766, -1.2685547, 1.1767578, 0.6459961, -1.3681641, -0.4650879, -2.3535156, -0.87158203, -1.2226562, -0.2619629, 1.4765625, 1.0380859, -0.8457031, 0.6665039, 0.18615723, -1.6337891, 0.21862793, -1.1630859, -0.14221191, 0.8027344, -0.8334961, -0.6323242, -2.0898438, -1.4638672, -0.8613281, -1.0126953, -1.1992188, 0.47973633, -0.91015625, 0.1295166, 2.1875, 0.19763184, -0.24084473, -1.2392578, 0.65722656, 2.2363281, -0.91259766, 1.1445312, -0.26391602, -1.7939453, -1.546875, -2.2597656, 0.6899414, 2.0234375, -1.1347656, -1.6445312, 0.38964844, -0.17785645, 0.4169922, -1.1943359, 2.5585938, -2.2050781, -1.0244141, -0.16174316, -0.59228516, 0.44726562, 1.8779297, 0.29077148, -1.546875, 1.4882812, 0.45214844, 1.9228516, 0.5708008, 0.828125, 5.7226562, 2.2832031, -1.3583984, 0.5126953, -1.1708984, -1.5185547, 3.3027344, -0.1932373, 0.3840332, -0.6933594, 0.22790527, 1.71875, 2.2480469, -0.6591797, -0.36108398, -1.4580078, 1.46875, 0.52490234, -0.2788086, 0.2479248, 0.8725586, 0.6074219, -3.3964844, -1.2314453, -0.52685547, 1.4970703, -0.92626953, 0.55859375, 1.2646484, -1.9140625, 0.40234375, 2.328125, 1.5830078, 0.96240234, -1.4716797, 0.46777344, 1.3515625, -2.6230469, -0.091796875, -0.6035156, -1.9130859, 1.828125, 1.6748047, 0.11206055, -2.1386719, -1.0273438, -0.18640137, 1.2451172, -1.21875, 0.7290039, 0.20898438, -0.75439453, -0.55371094, -0.5878906, -2.7089844, 0.23962402, 2.3105469, -0.28149414, -0.5307617, 1.2080078, 0.8261719, -0.19494629, 1.171875, 0.5395508, 1.0019531, -1.5273438, -0.46948242, 1.6669922, 0.23400879, 1.1699219, 1.7626953, 0.20153809, -1.3466797, 0.97802734, 0.59814453, -0.65283203, 0.23425293, -2.3417969, 1.1240234, 0.0087890625, 0.2084961, 0.48632812, 1.5126953, -0.5175781, -0.9067383, -0.1171875, 1.4072266, 0.47583008, -0.81396484, -0.87109375, -1.0791016, 1.8388672, 0.26049805, -0.8227539, 1.15625, -0.55615234, 1.015625, -0.5878906, 1.1523438, 1.0693359, -0.07110596, 1.0810547, 0.4621582, -0.70458984, -3.4296875, 0.031341553, -0.52685547, -0.58251953, -2.8183594, 0.46166992, -1.1689453, 0.45239258, -2.9433594, 1.1484375, 0.09649658, -0.9453125, 0.6855469, 1.3994141, 0.79296875, -0.36157227, 0.3762207, -0.36157227, 0.7207031, -0.6098633, -0.25561523, -0.5776367, -1.0302734, -0.7661133, -0.2685547, -0.3935547, -0.76953125, -1.0576172, 1.3759766, 1.6875, -0.40429688, 0.03842163, 1.3330078, 0.42700195, 2.5351562, 2.0917969, 0.95166016, 1.4423828, -0.52001953, 1.3955078, 0.30200195, 0.6303711, -0.5229492, -0.42749023, 0.13964844, -1.2949219, 0.5107422, 0.80810547, -0.7758789, 2.0683594, 0.84521484, -1.9873047, 1.6376953, 2.1699219, -1.5654297, -0.36987305, -2.4550781, 2.0234375, -0.21191406, 1.4345703, -0.35375977, 1.328125, 0.7583008, 1.5859375, 0.3918457, -2.6699219, -1.4814453, 1.9335938, -1.4619141, 0.53271484, -1.2021484, -0.33007812, -1.2294922, 0.92333984, -0.75439453, 1.8525391, 0.078430176, 0.5698242, -0.008460999, -1.6787109, -0.2697754, 1.6259766, -1.0107422, -0.02949524, 2.1875, -1.9736328, 1.3251953, 0.32421875, 0.2109375, -0.7055664, -1.46875, -0.48339844, 0.057617188, -2.3105469, -0.28222656, -1.9091797, -2.296875, 0.48046875, 0.6425781, 0.5957031, -0.19677734, -0.8305664, 0.49145508, 1.0888672, 1.7998047, -0.2775879, -0.5522461, -0.9555664, 2.140625, -0.10546875, 0.5576172, 0.41479492, -0.90283203, 1.3398438, -0.5053711, -0.42407227, 1.2285156, -2.1777344, 0.19665527, -2.0429688, 1.4228516, -1.0029297, 1.46875, 0.15576172, -1.9091797, -0.8823242, 0.5761719, -0.4453125, -1.9697266, 2.0410156, 1.3818359, 0.56884766, -1.0693359, -0.84375, 1.0634766, 2.5683594, -1.1103516, 0.28588867, 1.4599609, -2.1015625, -3.171875, 1.9501953, 0.2993164, 1.1435547, 2.0449219, -1.3486328, -0.55615234, 1.1875, -0.3322754, -0.1763916, 2.0703125, 0.51953125, -0.7583008, -0.059417725, -2.3125, -0.69921875, 0.89990234, 0.98828125, -1.8642578, 0.5317383, -1.4541016, -1.0703125, 1.0478516, 0.25634766, -0.9375, 1.2001953, 2.1699219, -0.08331299, -0.3894043, -1.8017578, -0.4909668, 0.19091797, -1.1005859, -0.88671875, 0.1928711, -0.9770508, 3.484375, 2.2324219, 1.2490234, 2.6445312, 2.921875, -0.6147461, 1.78125, 0.51416016, 1.6875, 0.19055176, -0.46484375, -1.8837891, -0.6899414, 0.35717773, -1.6318359, 0.17614746, 1.4345703, 0.8696289, 0.7089844, 0.89208984, 2.3007812, 1.6914062, -2.4238281, -0.72802734, -0.9277344, 1.2236328, -1.7998047, 0.5161133, 1.2070312, 0.48901367, 0.32299805, 0.8574219, 1.7451172, 1.1396484, 0.07763672, 0.54589844, 0.578125, 0.57666016, 4.2460938, 2.7324219, 1.3271484, 0.13024902, 0.10662842, -0.38354492, 0.9682617, -0.66015625, 0.07904053, -0.328125, 2.4101562, 0.01725769, -1.7744141, -1.4287109, -2.90625, 0.3347168, 1.3681641, -0.68359375, 1.1308594, -0.3864746, 0.6069336, -2.1328125, 0.38085938, 0.9379883, -3.1230469, 0.6298828, 1.1933594, -0.10748291, -1.7626953, -1.1064453, 0.27514648, -1.59375, -0.3984375, 0.75927734, -0.3244629, 2.5175781, -0.2541504, -0.06817627, -0.2010498, -0.19763184, -1.1572266, 2.5371094, 0.62646484, 0.30664062, -0.13342285, -2.0214844, -0.059417725, 1.1699219, -0.5371094, -0.20715332, 1.2695312, 1.7060547, -1.4726562, 0.9741211, -0.97021484, 0.8022461, -2.3574219, -1.9189453, 0.8574219, -1.1347656, 1.9794922, -0.49926758, 3.5839844, 1.0654297, 0.8984375, -0.390625, -2.6777344, 1.8085938, 2.1074219, -0.36645508, 0.65527344, 0.9941406, -0.6640625, 1.6904297, -0.4543457, 0.40698242, 0.6660156, 2.3105469, 0.25195312, 1.8154297, 3.5722656, -1.8310547, 0.3630371, 2.0234375, 1.3994141, -1.2490234, 2.9355469, -0.43286133, -1.8007812, 1.0537109, 2.0761719, 0.5131836, 1.2666016, 0.42700195, 0.04849243, -0.8588867, -0.9057617, -1.1142578, 2.8828125, -0.9238281, 0.093444824, -1.2675781, 3.671875, 0.3552246, 0.2232666, 2.8535156, -0.3408203, -1.8115234, -0.08148193, 0.43237305, 0.53759766, -0.6118164, -0.5366211, 0.5854492, 1.046875, 0.6801758, 2.0390625, 1.2412109, -0.08496094, -0.82421875, 1.4101562, -4.2539062, 0.18457031, -0.6640625, -0.4658203, -0.30200195, 1.4326172, 0.875, 0.112976074, 1.3789062, 1.5224609, 2.28125, 1.4970703, -1.4345703, -2.4394531, 1.484375, 1.8994141, 1.6357422, -0.46948242, -0.5336914, -2.2128906, -0.5957031, -0.7910156, 0.1586914, -0.4387207, 0.23632812, 0.5991211, -2.2910156, -0.3815918, 0.3310547, -1.4404297, -1.1123047, -0.5727539, 2.1308594, 1.5185547, -0.28051758, 0.66552734, 0.37231445, -0.44848633, -0.055999756, 0.13806152, 1.6572266, 0.14733887, -0.23242188, -2.9589844, -2.2265625, 0.7709961, -0.1829834, 0.5439453, -1.7705078, -1.3662109, -2.1640625, 1.3935547, -0.2064209, -1.484375, -2.6054688, -0.24743652, 0.5258789, 0.11212158, 1.3701172, -0.13757324, 0.55078125, -3.0566406, 0.53271484, 2.7265625, 1.3564453, 0.6582031, 2.2363281, -1.2285156, 0.6269531, 0.45703125, -2.1328125, -0.90771484, -0.22167969, -0.51708984, -1.515625, 1.3632812, -1.0146484, -0.6479492, 1.3476562, -0.3244629, 1.6367188, -1.1796875, -0.13757324, 0.033050537, -0.0107421875, -0.20214844, -0.56103516, 0.85546875, 1.3232422, 2.5605469, -0.69189453, -0.5522461, 1.5390625, -1.5341797, 0.19921875, -1.7373047, 1.1826172, 0.06719971, 0.08935547, -0.12512207, 1.0273438, -0.984375, 0.76953125, -2.4140625, -0.6796875, -1.6689453, -0.26782227, 1.3115234, 1.3935547, -0.11102295, -0.33398438, -1.3798828, 2.90625, -3.4589844, -1.015625, 2.1464844, -0.044189453, 0.47729492, 0.41137695, 0.6118164, 1.140625, 0.37670898, 2.28125, 0.39868164, -0.1517334, 0.046051025, -0.94140625, -1.2988281, -0.71435547, -0.66503906, 0.48364258, -2.6464844, 2.0546875, 1.1035156, -0.32202148, 1.1025391, -2.5292969, 1.078125, 1.6220703, 0.46606445, -0.41870117, 1.4228516, -1.4580078, -1.6767578, 1.5195312, 1.6259766, 1.0742188, -0.49780273, -1.5615234, -0.02494812, -0.91748047, -0.5576172, -1.2382812, -0.64746094, -3.6894531, -1.6259766, -1.9873047, -1.0253906, -1.8867188, -1.7148438, 2.3652344, 2.7714844, 1.2548828, -0.9633789, -0.5336914, 0.23083496, -0.3388672, 0.36206055, -0.013267517, 1.1914062, -0.5839844, 0.6586914, -0.18371582, 0.026855469, 1.8203125, -0.56689453, -1.5712891, -1.4208984, 0.93408203, -0.71728516, 0.06439209, -1.1533203, 2.7636719, -3.1308594, -0.0647583, -1.0244141, -0.30908203, -0.5444336, -1.3369141, -0.37280273, 0.5473633, -1.9521484, -0.71484375, -3.4316406, 0.22558594, -0.73046875, -1.21875, -0.19580078, -0.46313477, 2.5292969, -1.8408203, 0.42211914, 0.43945312, -2.796875, -0.47387695, -0.25732422, 1.7490234, -0.5493164, -1.4150391, -2.5839844, -1.5458984, -1.8154297, -1.4619141, 1.2431641, -1.1884766, 2.1621094, 1.3173828, -0.19372559, 0.50683594, 0.46557617, -0.95654297, 1.3642578, 1.9794922, 1.3701172, -1.2900391, -0.7338867, -0.28686523, 0.19628906, -0.30688477, -0.703125, -0.6503906, 1.7373047, 0.69921875, 0.99560547, 0.11767578, -1.3398438, -0.57958984, -1.25, 1.6416016, 2.09375, -0.22790527, 2.1503906, -1.5976562, 1.4882812, 0.24694824, -2.859375, -1.2822266, -0.14978027, 2.2480469, 0.17126465, 1.8251953, 0.46679688, -0.87353516, -0.9995117, 1.6123047, -3.2753906, -1.4375, -1.6992188, -3.2890625, -0.37109375, 0.4104004, -1.6044922, -0.7290039, -1.9736328, -2.1933594, -0.95458984, 0.6821289, 0.75927734, 1.6875, 1.2851562, -0.35083008, 0.5131836, 0.81396484, -0.21008301, -1.0087891, -0.020507812, 0.62402344, 1.1513672, 2.8417969, 1.5673828, 0.022460938, 0.81103516, 0.89990234, 0.04336548, 0.008300781, 0.25756836, -1.171875, 1.9228516, -1.578125, 0.5541992, -1.0966797, -3.1816406, -1.2646484, 0.9472656, 0.35717773, -1.8203125, -1.0927734, 1.3720703, -0.44799805, -1.4326172, -1.1083984, -1.9267578, -1.5195312, -0.32006836, -0.8022461, 1.4208984, 0.80078125, 3.1113281, -0.8105469, -0.6230469, -3.0332031, 0.33129883, 1.8828125, -0.97998047, -1.2587891, -2.0, -4.2304688, -0.60058594, -0.63623047, 0.083496094, 2.8808594, 3.3828125, 0.41479492, -0.32836914, 1.4023438, -0.93603516, -0.4465332, 1.6357422, -0.77734375, 0.25976562, -0.4411621, -1.8740234, 0.9995117, 2.4453125, -2.0605469, -0.8823242, 0.121398926, -2.1152344, -0.81884766, 0.8100586, 1.7978516, 1.765625, -1.6787109, 1.8632812, -0.88623047, -1.0048828, 2.96875, -1.7578125, -1.8388672, 1.1376953, -0.9350586, 1.7626953, 1.5107422, 2.1875, 1.2197266, 1.6982422, 0.03286743, -1.5419922, -1.4306641, 1.1787109, -2.0957031, -1.2060547, -0.56884766, 1.6298828, -1.3525391, -0.7680664, -0.20275879, 0.4658203, -0.13244629, 2.1503906, 3.6464844, 0.3371582, -0.119140625, -2.2832031, -1.4404297, 0.8227539, 2.0859375, -1.7294922, 3.0839844, -0.34179688, 0.10028076, -0.61376953, 0.71240234, 0.28295898, -0.55322266, 0.11102295, -1.8583984, -0.9536133, 0.4230957, -0.119384766, -0.140625, -0.6088867, 0.7890625, 0.47045898, 0.25170898, -0.26513672, 0.80322266, -0.7832031, -0.04458618, 1.9609375, -0.7397461, 0.1194458, -1.3642578, 1.296875, 0.6347656, 0.8378906, 1.5703125, 0.22155762, -1.0371094, -0.47875977, 1.9345703, -1.7255859, 1.5439453, -0.1427002, -0.23474121, -2.0214844, -0.3605957, 0.96240234, 1.8632812, 0.50439453, -1.4833984, 0.29833984, -0.19104004, -0.8183594, 0.19812012, -0.45629883, -1.1328125, 0.8461914, -2.2304688, 0.67529297, 1.3037109, 1.3798828, 0.3371582, -5.71875, 2.9375, -2.2441406, -0.23046875, -1.0263672, 0.049591064, -2.9121094, -1.0322266, -0.06542969, 0.16345215, -0.3996582, 1.2705078, -0.15734863, -1.0791016, -0.79345703, -0.38208008, 1.2685547, 0.7988281, 1.6513672, 2.1914062, -2.1757812, -0.15332031, 0.9121094, 0.8120117, 0.47753906, 2.0429688, -2.8535156, -0.26391602, -0.090148926, -3.1796875, 0.6040039, 4.3398438, -0.14624023, 0.087402344, -0.8305664, 2.0097656, -1.4951172, -1.1318359, 0.73779297, -0.6098633, 3.6230469, 0.15991211, -0.7421875, -1.4804688, 0.022506714, -0.41015625, -0.6796875, -0.2849121, 0.19677734, 0.69921875, -1.15625, -0.60302734, -0.9453125, 0.5683594, -2.5722656, 0.54589844, -0.47070312, 2.1796875, 3.6347656, 2.8730469, -1.7939453, 0.28149414, -1.5595703, -0.08514404, -0.203125, 0.5019531, 0.024734497, 0.5961914, -0.2980957, 2.0644531, 1.9658203, -0.69140625, 1.0126953, -2.2070312, 0.14953613, 1.0146484, -1.1806641, 0.13574219, 1.0039062, 0.09448242, 1.5673828, -2.1601562, -2.3515625, -0.83203125, 0.019180298, 0.83154297, 2.1777344, -0.6166992, -0.42504883, 1.1992188, -0.51416016, 0.9819336, 0.03930664, 0.9165039, -0.66552734, 0.9057617, -0.3623047, -4.0820312, 1.4453125, -1.2177734, 0.2421875, -2.0761719, 1.2265625, 0.124816895, -0.2705078, 0.62841797, -0.3737793, 2.015625, -0.9008789, 0.3359375, 2.2675781, -2.0039062, -0.54589844, -0.51416016, 0.09716797, 1.7529297, -0.37329102, -0.296875, -0.66748047, -1.5830078, 1.2490234, 2.0117188, 0.74853516, -0.9902344, 1.2041016, 1.4228516, -0.81591797, 1.7919922, 0.29296875, -0.01725769, -2.7636719, -1.3125, -2.0644531, 0.7133789, -0.24987793, -2.828125, 0.48120117, 1.3017578, -1.03125, -0.3552246, 0.31518555, -1.0517578, -1.4208984, -0.09210205, -1.1054688, 1.5419922, 2.40625, 0.97802734, 1.875, -1.0302734, -1.4101562, 0.4831543, -2.1699219, -0.06365967, -0.011390686, -0.23059082, 1.3017578, -2.5390625, -1.4130859, -1.8876953, -2.484375, -0.59228516, 3.1308594, 2.2734375, 0.40112305, -0.51953125, 1.4248047, -1.1689453, 2.7597656, -0.05517578, 0.5522461, 0.7397461, 0.5708008, 0.05517578, 1.1669922, 1.3779297, 0.43481445, -1.0507812, -0.8198242, 0.76220703, 0.66308594, 2.3554688, -2.8027344, 2.0332031, -1.4345703, -0.25439453, 0.6567383, 0.72998047, -0.9633789, 1.8837891, -0.5463867, -0.58740234, 1.4814453, 0.6538086, -0.84765625, -0.83203125, -1.2460938, 3.0917969, 0.7915039, 0.7758789, 0.42993164, 1.4736328, -0.35180664, -1.6748047, -0.06088257, -0.12237549, -0.8183594, -0.3347168, -0.3395996, 1.1220703, 1.984375, 2.8691406, 0.08666992, -0.4177246, -3.875, -1.4091797, -1.2275391, -0.36914062, 2.6875, 0.12286377, -0.7260742, -0.82958984, -0.50146484, 0.9038086, -0.5800781, -1.4619141, 0.5004883, 2.7441406, 0.37890625, -0.93310547, 0.88916016, -0.98876953, 0.040130615, -1.8476562, -1.4013672, 0.40795898, 4.0, -1.6123047, -1.4482422, 2.0566406, -1.0517578, -0.54003906, -0.2006836, -0.34375, 0.44262695, 0.26635742, -0.16418457, -0.72802734, 2.5585938, -1.0351562, -1.0458984, 0.6376953, -0.08319092, -0.5541992, -0.95947266, 0.34960938, -1.2529297, 0.38476562, -2.8378906, 0.6430664, 0.7729492, 1.4101562, -0.020828247, 0.85595703, 0.029006958, 0.56347656, -0.0053710938, 0.32885742, -0.097351074, -0.19726562, 0.02848816, -0.04458618, 1.0634766, -0.3684082, 0.032073975, 0.055877686, 1.7539062, -1.484375, -2.1425781, 1.6640625, -0.010009766, 1.5263672, 0.44995117, 1.46875, 1.0302734, 0.9194336, 0.18066406, -1.2216797, -0.71875, -1.5546875, -0.59814453, 2.0097656, 1.1972656, 0.111328125, 1.0742188, 0.19189453, -0.62841797, 1.3056641, 2.3164062, 1.2666016, -0.82177734, 2.3027344, 0.21936035, -0.18457031, 1.796875, -1.6523438, -0.97998047, -1.4492188, 1.65625, -0.3737793, -0.18493652, -2.0488281, 0.3359375, -3.4042969, 0.9838867, 0.54052734, 0.5629883, -3.5019531, -0.38110352, 0.19055176, -0.7866211, 2.625, 0.17285156, 1.5087891, 0.9082031, 1.4736328, -2.1699219, 0.24157715, -0.76171875, -0.48950195, -1.8583984, 1.6474609, -1.3515625, -0.31762695, 2.0390625, -0.26708984, 2.1367188, -2.0800781, 0.74853516, 1.9013672, 2.4902344, -0.28027344, -0.5004883, -2.4667969, -2.1816406, 2.34375, -1.7763672, 0.63720703, -0.3359375, -0.066711426, 1.9287109, -2.3164062, -2.71875, 2.4003906, -1.8623047, -1.6884766, 0.033691406, 0.890625, 1.4462891, -1.1054688, 0.0053710938, -0.28564453, 0.12335205, 0.22021484, -0.25708008, 1.4658203, -0.5410156, -0.37182617, -0.34472656, -1.9169922, -2.578125, 2.2226562, -2.421875, -0.9194336, 1.0146484, 0.9550781, -1.3408203, 1.8173828, 0.5756836, 1.3173828, -1.078125, 0.4465332, 1.3037109, 0.22558594, -1.328125, 1.2763672, 1.0126953, -1.3798828, 0.46704102, 1.0898438, -0.0107421875, 3.7167969, 0.13391113, -1.4453125, -0.2241211, -1.390625, 1.1669922, -0.48168945, 2.0859375, 2.2773438, -1.359375, 2.1835938, 0.37817383, -1.421875, 0.38452148, 0.30639648, 1.3134766, 1.0029297, -0.36914062, -2.3105469, -2.8027344, -1.8427734, -1.7041016, -2.4765625, -0.24279785, -1.5693359, 0.036132812, 0.18688965, 0.88671875, -1.0830078, -0.17529297, 0.44921875, 0.671875, 0.4699707, 1.2646484, -0.30395508, 0.06915283, 1.4501953, 0.07128906, -0.6977539, -0.8676758, 1.1884766, 0.15466309, -0.84716797, -1.4755859, -0.07659912, -1.7646484, -0.49047852, 0.5864258, -2.2207031, -3.1640625, 0.57666016, 2.0371094, 0.19042969, -1.7695312, 0.74072266, 0.9301758, 1.2861328, 0.43066406, 1.6044922, 0.9785156, -2.5136719, 1.4248047, 2.0878906, 1.1689453, -1.1962891, 0.34887695, 3.265625, -0.6660156, -0.46875, -1.1435547, -1.1132812, 1.671875, 1.34375, -3.5625, -0.58740234, -0.5107422, 2.5566406, 1.3388672, 1.1054688, 0.03213501, -0.93359375, -0.9428711, -1.234375, -0.5493164, 0.96484375, -0.9609375, 2.1464844, -1.1787109, -0.65283203, 0.36132812, -1.4228516, -0.15332031, 1.6865234, -0.36743164, 0.22167969, 0.65966797, 0.82373047, 0.46362305, 2.1230469, 0.20202637, 0.3876953, 2.71875, 0.01676941, -0.9301758, 1.5595703, -0.15612793, -0.6513672, 0.9770508, 0.64404297, 0.375, -0.19494629, 1.7109375, -0.5864258, -1.9345703, 2.6777344, 1.8759766, -1.0615234, -1.3095703, 0.65185547, -0.94921875, 0.73095703, -0.23400879, 0.69140625, 2.2578125, -1.6357422, 0.52734375, 3.328125, 1.3486328, 0.6699219, 0.18457031, -0.8540039, -0.17089844, -0.984375, -0.05029297, 1.0205078, 0.24450684, 0.6508789, -1.5546875, 1.390625, -1.5849609, 0.48754883, 0.37817383, -0.36547852, -0.90771484, -0.36694336, -1.6171875, -0.0064697266, -1.0439453, 0.3293457, -2.375, 0.55371094, 1.9091797, -0.5649414, 2.7949219, 0.48754883, -0.7988281, 0.46557617, 0.35620117, -2.0175781, 0.96728516, -2.7265625, 0.85009766, 0.8725586, -0.22790527, -0.71875, 0.7988281, 0.65478516, -1.2431641, 0.08258057, 0.33911133, 2.125, -0.40429688, -0.017044067, 0.17834473, 1.03125, -0.04699707, 1.046875, 4.7070312, -0.91796875, 0.890625, -0.08123779, 1.0537109, -0.27001953, 0.29589844, -1.1298828, 1.3798828, 0.18054199, -4.3789062, 0.6069336, 0.4675293, -0.59521484, -0.107421875, 0.890625, -0.3564453, 3.3417969, 1.1884766, -0.86328125, 0.6508789, -0.6538086, -1.0224609, 2.7832031, -0.6933594, 0.05404663, -2.7714844, -0.44018555, -0.2232666, -0.33325195, -0.09881592, -0.9375, 0.13952637, 0.014732361, -1.4873047, -3.1269531, -0.12188721, 1.6025391, -0.18859863, -2.4570312, -0.9941406, -0.91845703, -0.65527344, 0.4128418, 1.2001953, 1.0703125, -1.5976562, 0.044921875, -1.0400391, 0.5605469, 0.22607422, -1.7373047, 0.359375, -0.89990234, 0.65283203, 1.125, -1.5048828, 2.9941406, 1.3271484, -1.2382812, -0.54833984, 0.98046875, 1.7607422, 0.9477539, 0.4169922, -0.5595703, -2.8769531, -2.4765625, -0.55908203, 0.07623291, 0.73779297, 1.3398438, -0.5473633, 0.66748047, -2.0996094, 0.87939453, 0.42016602, -1.8984375, 1.0263672, 0.52197266, -0.44262695, 0.74072266, -0.33862305, -0.7504883, 0.25268555, -2.1914062, 0.5761719, -1.7587891, -0.7519531, -1.0263672, -1.0009766, -0.23254395, -0.13977051, 2.7558594, 0.94921875, -1.0185547, 2.5214844, 1.1435547, -1.7080078, -0.5654297, -0.32836914, 2.2890625, -0.9213867, 0.20666504, -0.6928711, 2.0605469, 0.42578125, -1.5263672, -1.9970703, -1.1660156, 0.90185547, -1.2900391, 0.19140625, 0.41796875, 0.76171875, 0.73876953, -2.6855469, 0.6430664, -2.5371094, 0.24841309, -1.0478516, 0.68408203, 0.72265625, -1.6181641, -2.0097656, -0.2298584, 0.62939453, 0.014976501, 1.8798828, -1.84375, -1.7626953, 1.4697266, -1.2783203, -2.671875, 0.6665039, 1.5322266, -0.51171875, -0.71240234, 0.8754883, 1.3876953, -2.0078125, -2.75, 1.0546875, 1.8779297, -1.1220703, 0.35253906, 1.1611328, -0.8959961, -1.7451172, 1.8320312, 0.16589355, 0.048828125, 1.9296875, 1.2197266, 2.125, -0.84765625, 0.022460938, -1.1210938, -0.9506836, -0.06756592, -0.84228516, -1.3876953, 0.16931152, 2.1738281, 1.6552734, -1.8320312, 0.6870117, -1.2587891, -0.029953003, 0.5551758, -0.41723633, -0.6328125, -2.4511719, -0.9902344, 0.3605957, 2.6542969, -2.1074219, 3.2441406, 0.39575195, 0.97021484, -0.75439453, 2.2109375, -2.7636719, 0.22644043, -0.5756836, 0.8989258, 0.8852539, 0.42504883, -2.7832031, 1.1611328, -4.8007812, -0.0390625, 1.6787109, -1.2890625, -0.97509766, -2.5625, 0.13586426, -1.0791016, 0.89208984, -2.4824219, -0.6323242, -0.10205078, -0.6269531, -2.03125, 1.1845703, 0.80322266, 2.0742188, -0.5102539, -0.4699707, 0.9868164, 4.4570312, 1.7763672, -1.4375, 2.3457031, 0.26733398, 0.3310547, -0.72802734, 1.2470703, -0.010093689, 0.5180664, 0.011878967, 0.08666992, -0.22009277, 0.7285156, 2.4902344, 0.093444824, -1.7070312, 2.3085938, -1.3857422, -1.8564453, -0.10394287, 1.8759766, 0.9057617, 1.0517578, 8.3515625, -1.7275391, -4.6210938, 1.0205078, 3.9589844, -0.13085938, -0.5673828, -1.3007812, 0.5605469, -0.48242188, -1.8798828, -0.25024414, 0.21154785, -0.44750977, -1.2773438, 0.48242188, -1.6689453, 1.8798828, 1.2255859, 1.3173828, 0.22766113, -3.5625, -0.8754883, 0.057495117, 0.010093689, 1.6123047, -1.5595703, -0.0050315857, -2.6796875, -1.3564453, 1.4814453, 3.609375, -1.8632812, -1.3945312, -2.8808594, -0.57373047, 0.5620117, 0.7421875, 1.3115234, 0.71484375, 0.37475586, -0.6875, 1.1669922, 1.9248047, 1.8945312, 0.6010742, 0.10626221, 0.46020508, -0.27490234, 0.24316406, -0.47265625, -1.6064453, -0.68408203, 1.1025391, 0.83984375, 0.45239258, 1.6826172, 0.6801758, 0.20800781, -2.2988281, -0.34375, -1.9921875, 3.0136719, 0.9902344, -0.42895508, -0.19433594, -3.2128906, -1.046875, 0.55078125, 2.1582031, 0.6538086, 1.3623047, -1.8369141, 1.5810547, 0.4255371, 0.38476562, -1.3271484, 1.4375, 1.0087891, 0.7558594, -2.2832031, -0.5522461, 1.5244141, 0.4831543, 1.9150391, 0.04458618, 0.7573242, 1.4560547, -1.8251953, -0.59814453, -0.98095703, -0.46484375, 0.07733154, 0.92822266, 1.2617188, -1.2822266, -1.6552734, -0.15759277, 0.44995117, 2.5605469, -1.3408203, -0.41015625, -1.3085938, -0.2854004, 1.3583984, 0.7368164, -0.16711426, 0.7651367, 1.0732422, -0.5317383, 2.2597656, -2.4296875, 1.2451172, 1.96875, -0.038604736, 1.8203125, 0.07489014, -0.38208008, -0.045898438, 1.6005859, 1.8818359, -0.26660156, -0.60302734, -3.0957031, -0.94873047, -0.87939453, -1.3398438, 0.14904785, 1.15625, 0.87890625, 0.35546875, 0.9506836, 0.2770996, 0.16699219, 1.4306641, -0.037597656, 0.40429688, 0.22497559, 1.2626953, 0.05908203, -0.61083984, -1.3359375, -0.13757324, 0.7949219, 2.7363281, -0.8774414, -0.08251953, 0.5366211, -1.5634766, -3.734375, 0.52197266, -1.8876953, 0.734375, -0.15246582, 0.3894043, 0.18713379, 1.6689453, 1.4091797, -0.32714844, -2.3339844, -0.6533203, 2.0605469, -0.5629883, 0.9511719, 1.3271484, 0.51220703, 1.109375, 1.703125, 0.099121094, 0.51708984, 0.9785156, -0.5751953, 1.7734375, -0.009117126, -1.1640625, -0.43237305, -1.5517578, -0.5366211, 0.2310791, -1.1220703, 0.4140625, 0.115234375, -0.6928711, 0.74560547, -0.41674805, -0.7163086, -3.1386719, -0.51904297, -1.1259766, -0.5253906, -1.1669922, 1.609375, 1.5078125, -0.6640625, -1.0478516, -1.1826172, 1.2890625, 0.24609375, -0.6875, -2.359375, -1.0761719, 1.1865234, -0.90966797, 2.4863281, 1.4912109, 0.984375, -0.69970703, -2.0234375, 1.1347656, 2.1328125, 0.4777832, -0.6821289, -0.14111328, 2.2207031, -2.2597656, 0.028320312, 0.07244873, -4.5039062, -0.32641602, -0.8676758, -1.1875, 1.1962891, 0.13415527, 0.8754883, 0.29418945, -1.0888672, 3.3964844, -1.0986328, -0.64404297, -1.3330078, -1.9794922, -1.4130859, 0.48217773, -0.19763184, -0.0050468445, -0.52197266, -0.9350586, 2.4980469, -1.6640625, 0.9921875, -0.4440918, 0.47070312, -2.9511719, 0.8203125, 0.67822266, 0.28759766, 3.4160156, -0.17614746, -2.3984375, 1.9931641, -1.8632812, 0.99609375, -0.66748047, 1.7421875, -0.17041016, 1.7705078, -0.27807617, 0.8959961, 2.5019531, -2.5429688, 0.36547852, -1.2861328, 2.1347656, 1.2695312, -0.5644531, -0.095947266, -0.33984375, -0.5805664, -0.27416992, -0.33398438, -1.7773438, 1.0283203, 1.6289062, -1.7802734, -1.0107422, 0.39331055, 1.8583984, -1.4423828, -0.29516602, 0.80029297, -0.72802734, 0.5786133, -0.9213867, 0.390625, -0.39526367, 1.1689453, -1.0849609, 1.2705078, 2.0214844, -0.4140625, -0.35717773, -1.2041016, -0.8984375, 0.2626953, -0.97265625, -2.7246094, 0.51953125, 0.9628906, 1.9267578, 2.4980469, 0.13708496, -0.07086182, -0.39672852, 0.033111572, 2.8339844, -1.2236328, -1.6494141, 0.97265625, -0.8051758, 0.92041016, -0.4182129, -1.1220703, -1.0126953, 2.8691406, -2.3144531, -1.8173828, 0.27856445, -1.0693359, -0.84375, 4.4570312, 1.2021484, 1.3486328, 1.5703125, 1.7158203, -0.8984375, 0.08026123, -1.5380859, -1.5546875, 0.3581543, -0.9785156, 2.1230469, -0.69140625, -0.8730469, 0.65771484, -2.4238281, -2.1777344, 0.74853516, 0.7290039, -1.046875, -0.96875, 0.37670898, 1.6142578, -0.64160156, 0.28051758, -1.9443359, -1.0664062, -2.9902344, 0.06707764, -0.45874023, -0.41015625, -0.16027832, -0.2902832, 0.29956055, -1.0361328, -1.5751953, 0.34179688, 0.65527344, 2.6289062, -0.72265625, -1.0439453, 0.5864258, -0.36206055, 1.0078125, 2.1152344, -0.56884766, -0.8413086, -0.25048828, 1.9345703, -1.2265625, -0.5449219, -0.61376953, -0.8959961, -1.1728516, 0.3059082, 0.021896362, 0.62158203, 1.0136719, 1.7958984, 1.1171875, 0.6640625, -2.4042969, -0.80078125, 2.4042969, -1.8173828, 1.4648438, -0.6323242, -0.03451538, 4.0898438, 1.125, -0.6850586, -0.91748047, 0.51904297, 1.0205078, 2.8886719, -3.7265625, 0.109375, -0.31762695, 2.2324219, -2.6074219, 0.39746094, -3.4628906, 0.23291016, -0.6801758, -1.4189453, 1.0751953, 0.73046875, -1.1767578, 0.36254883, 1.1337891, -1.0039062, -0.63916016, 1.0185547, -1.9580078, 1.0830078, -0.828125, 0.859375, 1.3632812, -4.1289062, -1.3623047, -0.013671875, 0.8071289, 0.6713867, -2.5722656, 0.40454102, -0.4831543, -0.34448242, -0.8496094, -1.1992188, 1.0800781, -0.39916992, 1.5947266, -0.50439453, 2.5136719, -1.4365234, 2.7949219, 0.39331055, 1.6914062, -0.15856934, -3.0253906, -1.6982422, -1.2382812, 0.28173828, -0.89501953, -0.34057617, -0.41796875, -0.62060547, 0.546875, -0.26733398, -0.4050293, -0.36523438, -0.14904785, -0.86279297, -0.50439453, 0.2421875, -0.1772461, 0.113464355, -0.55078125, 0.021850586, 1.8525391, -1.0947266, -1.0126953, -0.6660156, -1.1376953, 1.3271484, -2.125, -0.14904785, 0.74365234, 0.74072266, -0.109375, 0.1619873, -2.9140625, 0.38598633, -1.5029297, 2.0917969, 2.6152344, -1.2919922, -2.8808594, 0.6611328, 0.30493164, 0.37036133, 2.0058594, 2.4589844, 0.28027344, 0.7211914, -1.5195312, 0.013343811, -0.03189087, 1.6591797, -0.734375, -0.35668945, 0.066589355, -3.1699219, 0.22912598, 1.9140625, -0.19177246, -0.85009766, 1.0263672, -0.7573242, 2.4726562, 0.75927734, -1.1689453, -1.0458984, -1.6103516, 1.984375, -0.051757812, 0.6425781, -0.52001953, -0.4416504, -1.9677734, 0.84228516, -0.578125, -1.9658203, 1.0849609, 2.78125, -3.0214844, -2.0019531, 0.08105469, -1.3837891, -1.7851562, 0.16113281, 0.94921875, -0.7167969, -1.1865234, 0.18945312, 1.3935547, 0.049713135, -0.4025879, 2.1113281, 0.3203125, -0.9291992, 0.75, -0.6425781, 0.19128418, 0.25854492, -0.02961731, -1.5810547, 0.95751953, -0.026779175, 2.3945312, 0.19433594, -2.0234375, 2.0917969, -0.1772461, -1.53125, 1.0615234, 0.63134766, -0.45385742, 0.41723633, 0.25463867, 1.7080078, 0.6503906, 3.2890625, 0.3630371, 1.9726562, 1.3583984, 1.8798828, 0.011802673, 0.91845703, 0.29052734, -0.3684082, 1.4130859, -2.8886719, 1.8867188, -1.4755859, -0.72998047, 1.1455078, -0.90234375, -1.1591797, 2.1386719, 0.06347656, 0.23144531, -1.0117188, -1.7148438, 0.7260742, 1.8242188, 1.2460938, 1.5039062, 2.7753906, -0.39233398, 0.6196289, -0.5473633, 0.9790039, 1.578125, 1.1708984, -1.6416016, -0.31420898, 1.3583984, 0.69384766, 0.5605469, 0.5410156, -0.4260254, -1.7216797, -0.60839844, -0.4494629, 1.8466797, -0.23840332, -0.58447266, -0.98828125, -0.95751953, -1.0517578, 0.9604492, -0.8808594, -1.3125, 0.6557617, -0.31176758, -0.39086914, 0.9682617, -2.1035156, -1.640625, -1.15625, 0.9472656, 1.4873047, 0.45922852, 0.08868408, 3.7578125, -1.4873047, 0.6328125, 1.3955078, 1.0791016, -1.9716797, -1.4736328, 1.2597656, 1.5283203, 0.48120117, 1.1669922, -0.3400879, 0.2746582, 0.49682617, 1.1025391, 0.54541016, 0.6796875, -1.8203125, 0.08856201, 1.9101562, -0.13415527, -1.3994141, -3.0097656, -1.09375, -0.5317383, -2.2363281, 1.2294922, 0.08306885, -1.5898438, 0.4560547, 2.4335938, -0.61279297, -1.3945312, 0.9057617, 1.1796875, 0.40429688, -2.9140625, -0.4206543, 1.0537109, 0.9316406, 1.2666016, 0.44458008, 2.0996094, 1.15625, -1.5556641, -1.0908203, 2.0878906, -0.3071289, -0.6479492, -1.6171875, -1.0693359, -0.43969727, 1.1396484, 0.17687988, 0.060180664, -3.3847656, -1.4365234, -0.17541504, -0.6972656, 2.1699219, -3.875, -0.97509766, 0.61865234, -1.1640625, -0.22619629, -1.71875, -0.2854004, -0.2529297, -1.1904297, -0.73095703, -0.06866455, -0.06347656, -1.3515625, 0.55859375, 0.6489258, 2.9785156, -0.5854492, 0.4543457, -0.43969727, -0.78271484, 0.5253906, 0.7397461, -1.0283203, -0.01838684, 0.084472656, 0.5932617, 1.7705078, -1.6298828, 1.2275391, 0.27954102, -1.6962891, 1.6630859, 2.0839844, -1.4169922, 0.13098145, -0.018875122, 2.75, -1.8476562, 0.72802734, 4.4257812, 0.44335938, 1.6328125, 0.17736816, 0.5966797, 0.52734375, -0.57666016, 3.34375, 0.2668457, -0.72998047, 0.3293457, 2.8300781, -0.6796875, 0.8198242, -1.5498047, 2.1425781, 1.9208984, 1.0351562, -1.7695312, 0.004070282, -1.2421875, -1.4912109, -1.3310547, -0.06512451, -0.07598877, 1.0927734, -0.07128906, 1.4248047, 2.8203125, -0.39916992, -2.4355469, 0.79052734, -1.390625, 0.4152832, -0.7524414, -0.5810547, 1.8095703, -0.30322266, 2.2519531, 0.32177734, -2.7636719, -2.1113281, 0.73291016, -0.8041992, -0.7363281, 1.6513672, -2.65625, 0.5776367, -0.2722168, -0.6660156, -0.14025879, -1.3720703, 1.0673828, 2.4472656, 0.68310547, -0.8354492, -1.4482422, -0.078308105, 0.25341797, 0.9160156, 0.5288086, -0.5341797, 1.265625, -0.3869629, -1.0234375, 1.1044922, -1.6513672, 1.1826172, -0.13146973, 0.063964844, 0.12017822, 0.7792969, 1.6132812, 0.27441406, -0.26293945, -1.8232422, 1.5966797, 0.4519043, -1.6806641, 1.3193359, 0.13708496, 0.82421875, -0.20947266, 1.0654297, 1.046875, 1.1386719, -2.1660156, 1.5205078, -6.0117188, -2.8691406, -1.3203125, -1.3505859, 1.9833984, 0.027877808, 2.640625, 0.2076416, 0.6743164, -2.4785156, -0.3581543, 2.0625, -1.1787109, -0.55810547, -1.0078125, 1.3525391, -1.1210938, -0.6586914, 1.0712891, -2.2792969, 1.0800781, -0.040008545, -0.76416016, -0.6020508, 1.1269531, -1.0185547, 1.2851562, -1.1708984, -2.0859375, -0.29760742, -0.59521484, 3.2089844, 1.0263672, 1.0244141, -0.9042969, 2.3652344, -2.6328125, 1.0439453, 0.69921875, -0.24023438, 1.4375, 0.35424805, 0.8203125, -3.5332031, 1.0673828, -1.3212891, 0.08538818, -2.0957031, 0.7885742, 1.2792969, 2.5214844, -0.75927734, 0.23376465, 1.4169922, -1.921875, -6.140625, 0.7915039, -0.7426758, -3.2890625, 0.1430664, 0.046539307, 0.17102051, -0.40551758, -2.3964844, -2.3613281, -0.5722656, -1.1279297, 1.625, 0.6635742, -0.9609375, 0.31469727, -1.5361328, 2.2617188, -0.7026367, 0.5722656, -0.5571289, 1.8515625, 2.2519531, -1.4804688, 1.0009766, 0.022598267, 0.07940674, 0.8125, 0.3605957, 1.3544922, -5.171875, 0.6459961, 1.0546875, 1.3427734, 2.8046875, -0.22888184, -0.5644531, -1.0224609, 1.3476562, -0.049468994, -0.41601562, 2.6074219, -0.8144531, 0.90625, 0.7788086, -0.03677368, 1.5048828, -0.9296875, -0.023025513, -0.50634766, 0.08886719, -1.2451172, -0.19335938, 0.21484375, 0.028121948, -1.7548828, 0.8256836, 0.56591797, -1.2773438, -0.20837402, -0.19812012, 1.5263672, 0.094177246, -0.0055351257, 0.4333496, 0.3322754, 1.0712891, -1.4208984, 0.9394531, -1.4677734, -0.20410156, -0.53466797, -3.9667969, -2.8066406, -0.49682617, -0.8540039, 0.67529297, 0.085510254, -1.6083984, 1.1914062, 0.24987793, -0.28833008, 0.04928589, 1.2412109, 3.125, -0.85302734, -3.7265625, -0.25390625, -0.8100586, 0.60058594, -0.2644043, -1.6435547, 0.70458984, 1.3642578, -0.43432617, -1.6865234, -1.8251953, -0.71240234, -1.6757812, 0.921875, 1.4970703, -0.9614258, 1.3603516, 1.7880859, -1.5419922, -1.2236328, 1.46875, 1.9404297, 0.25512695, 0.671875, 1.3476562, 1.0341797, -0.43554688, 1.3046875, 0.9921875, -1.7646484, -0.40893555, 0.27172852, -0.44921875, -0.80322266, -2.0332031, -0.94140625, 0.12536621, 0.31054688, -1.2402344, 1.6376953, 0.82958984, 3.4902344, 1.9443359, 1.0810547, 1.9736328, -0.10638428, 1.1552734, -2.5859375, 0.8359375, -0.84375, 2.0839844, -1.7919922, -0.16687012, -0.7807617, 0.4074707, -1.53125, 1.4345703, 0.34765625, 0.5288086, 0.9008789, -0.6557617, -0.734375, -1.3623047, -0.19250488, 0.88671875, 1.8115234, 1.4189453, -2.1074219, 1.2275391, -0.82666016, 0.8183594, 0.27661133, -2.2675781, 1.2324219, 0.21740723, 0.35864258, -0.39770508, 1.8779297, 1.2011719, 1.4482422, -1.7431641, -1.421875, -0.124694824, -0.73291016, 0.49145508, 0.49926758, -1.2666016, -0.27783203, -3.734375, 1.4023438, -3.0527344, 1.7851562, 0.6972656, 0.2310791, 2.4980469, 1.8193359, -1.8388672, -3.4707031, -1.2841797, -0.90771484, 0.1505127, 2.2324219, -1.703125, -3.6875, -0.484375, -0.7573242, 1.2880859, -0.1538086, -0.32983398, -0.2109375, -2.7578125, -0.8066406, -4.015625, 0.3479004, 1.0371094, 1.2138672, 0.67333984, -1.1337891, 0.63134766, -1.7529297, -0.5839844, 1.5517578, -2.078125, -0.6567383, -1.5830078, 0.2980957, -0.16247559, 0.027023315, 4.5195312, 1.4375, 3.125, 0.37231445, -0.022384644, 4.0117188, -0.51171875, -1.0478516, -0.42260742, -1.1787109, -0.4411621, 0.11376953, 0.66796875, 0.84033203, -1.5908203, -1.5751953, 1.7265625, 0.6010742, 0.95458984, -0.3388672, 0.6713867, -0.59375, -2.4355469, 0.27075195, 1.0654297, 1.9921875, -1.2890625, 2.96875, -2.6230469, 0.29882812, -1.0839844, 0.82177734, 2.2285156, -2.578125, -1.9794922, 1.2421875, 3.3125, 0.1517334, 1.2333984, -2.4511719, 0.8334961, -0.09454346, -0.2734375, -0.9555664, 0.93896484, 0.39648438, -1.9345703, -1.2011719, 0.33398438, -1.8193359, -0.79248047, 0.80859375, 0.84521484, 1.8173828, 0.24902344, 0.7480469, -2.0371094, -0.11639404, -1.6015625, -2.3535156, 0.6699219, 0.04977417, 0.5751953, 0.028152466, -0.67822266, -1.390625, 1.5419922, -3.390625, -0.16491699, -2.5996094, -0.55566406, 0.089904785, 0.7524414, -1.0693359, 0.7729492, 1.4453125, -1.5224609, 2.8574219, 1.2568359, -0.33862305, -1.2890625, -1.6630859, 0.11376953, 1.3134766, 1.2216797, 0.36157227, -0.78564453, -2.2792969, -1.3710938, 0.67529297, 0.93603516, -0.2220459, -0.6958008, -1.3974609, -0.061431885, -0.94140625, -1.3076172, 0.6699219, 2.5019531, -2.0351562, -2.3652344, 0.3244629, 0.23535156, 1.8242188, -0.34692383, -0.53759766, -0.94677734, 2.8808594, -0.35058594, 2.0683594, 1.7070312, -0.5698242, 2.0800781, 1.0371094, -1.5976562, 0.84228516, 0.1517334, -0.034179688, 1.796875, -0.71533203, 1.0791016, 1.3056641, -0.24023438, 0.10028076, -0.46948242, 1.3564453, 1.0029297, -0.2722168, 0.18103027, 1.0947266, 0.04916382, -0.6665039, -1.2695312, -1.0917969, 1.5283203, -0.6665039, 0.41723633, 0.54248047, -2.6113281, 0.90625, 1.9423828, -0.88916016, -1.4140625, 2.09375, -3.0996094, 0.7084961, 0.6899414, 0.7890625, -2.0722656, -1.0830078, 2.0253906, 3.484375, 1.1982422, -0.4567871, 1.0146484, -1.609375, -0.36987305, -0.9633789, 1.8037109, -0.76416016, 1.0585938, 0.109313965, -0.5385742, 0.24499512, -0.41674805, 0.34301758, -1.2617188, 0.7832031, -1.4169922, -1.3291016, -0.56933594, -0.2668457, 0.68359375, 0.085876465, -1.4248047, -1.0712891, -1.4072266, -0.9458008, 1.0234375, 1.0908203, -1.3798828, 0.2076416, 0.21520996, -1.0029297, -1.90625, 2.4335938, -0.42700195, -1.5986328, -0.6933594, -1.7431641, 0.6074219, 0.80908203, -0.36401367, -0.12432861, 2.1464844, 6.8164062, -0.98291016, -1.5283203, 2.8125, 0.78759766, -1.5029297, -0.8300781, 1.7070312, 2.1113281, 0.18798828, -1.0810547, 3.8925781, 1.3085938, 1.4326172, 1.1943359, 0.31176758, -0.080078125, -0.7089844, 1.0302734, 0.8979492, 0.3293457, -0.44067383, 0.04232788, 0.57910156, 0.45385742, 1.6923828, 0.90771484, -0.81884766, 2.2890625, -0.5019531, 0.8125, 2.6113281, 1.7119141, 2.7792969, -0.117492676, -1.2978516, 0.04736328, 0.08135986, -1.3759766, -0.9458008, -2.9746094, -0.95703125, 0.15563965, 1.0546875, 0.72216797, 0.8696289, -0.32250977, 3.6816406, -0.5078125, -1.4892578, -1.2617188, 0.074401855, -0.50683594, 1.8720703, 0.5390625, -1.6728516, 0.22937012, 1.609375, 1.6083984, 0.5527344, 1.0966797, 1.8564453, -2.1015625, 1.0361328, 3.2714844, 1.5771484, -1.4804688, 0.6035156, 0.11505127, -0.6821289, 0.027023315, -1.7080078, 0.9760742, -0.5991211, -0.21813965, -1.734375, -2.2402344, -1.2089844, 0.61572266, 0.95458984, 0.85302734, 1.2089844, 1.0244141, -0.16845703, -0.29614258, -1.6650391, 1.0068359, 2.2753906, 1.3916016, 0.10498047, 0.6542969, 1.4833984, -1.0830078, -1.9833984, -1.3388672, 1.4882812, 0.57958984, 0.39282227, -1.5439453, 0.36987305, 2.5136719, 1.6679688, -1.390625, 0.34204102, -0.13305664, 0.14562988, 0.6088867, -0.5541992, -1.8232422, 1.875, 0.15612793, -1.4345703, 2.1289062, 0.50634766, -0.78271484, -1.3662109, 1.0332031, 1.4013672, 0.6699219, -1.7568359, -0.35473633, 3.75, 2.7207031, 1.8037109, -0.2668457, 0.7729492, 0.4296875, 1.5595703, -0.15148926, 0.51220703, -0.7084961, 1.3310547, -0.98046875, 0.4267578, -2.1855469, 2.5332031, 0.49121094, -2.2050781, -1.4648438, 3.6933594, 0.041381836, -1.8125, -0.14697266, 1.3388672, -1.2070312, 1.5654297, 0.26831055, 0.7441406, -3.1328125, 2.5839844, 0.3425293, -2.1953125, -0.7348633, 0.32202148, -0.90771484, -1.9892578, -0.38061523, -0.3161621, -2.5644531, -1.5244141, 0.43676758, 2.8066406, -1.2158203, 0.28295898, 1.1064453, -1.6806641, 1.3037109, 0.38745117, -1.8642578, 0.10321045, 1.0683594, 0.2783203, -0.07128906, 2.0058594, 3.34375, -1.65625, -0.8881836, 1.0898438, -3.890625, -1.6279297, -2.8300781, -0.93310547, -2.9589844, -0.09277344, -0.13537598, -1.5166016, 0.97021484]\n"
     ]
    }
   ],
   "source": [
    "print(embedding1)"
   ]
  },
  {
   "cell_type": "code",
   "execution_count": 51,
   "metadata": {},
   "outputs": [
    {
     "data": {
      "text/plain": [
       "7524.555609095166"
      ]
     },
     "execution_count": 51,
     "metadata": {},
     "output_type": "execute_result"
    }
   ],
   "source": [
    "import numpy as np\n",
    "np.dot(embedding1, embedding2)"
   ]
  },
  {
   "cell_type": "code",
   "execution_count": 52,
   "metadata": {},
   "outputs": [
    {
     "data": {
      "text/plain": [
       "2642.919704221985"
      ]
     },
     "execution_count": 52,
     "metadata": {},
     "output_type": "execute_result"
    }
   ],
   "source": [
    "np.dot(embedding1, embedding3)"
   ]
  },
  {
   "cell_type": "code",
   "execution_count": 53,
   "metadata": {},
   "outputs": [
    {
     "data": {
      "text/plain": [
       "2150.6375048579607"
      ]
     },
     "execution_count": 53,
     "metadata": {},
     "output_type": "execute_result"
    }
   ],
   "source": [
    "np.dot(embedding2, embedding3)"
   ]
  },
  {
   "cell_type": "markdown",
   "metadata": {},
   "source": [
    "### Vectorstores"
   ]
  },
  {
   "cell_type": "code",
   "execution_count": 54,
   "metadata": {},
   "outputs": [
    {
     "name": "stdout",
     "output_type": "stream",
     "text": [
      "Requirement already satisfied: chromadb in c:\\users\\dell\\appdata\\local\\packages\\pythonsoftwarefoundation.python.3.10_qbz5n2kfra8p0\\localcache\\local-packages\\python310\\site-packages (0.5.0)\n",
      "Requirement already satisfied: build>=1.0.3 in c:\\users\\dell\\appdata\\local\\packages\\pythonsoftwarefoundation.python.3.10_qbz5n2kfra8p0\\localcache\\local-packages\\python310\\site-packages (from chromadb) (1.2.1)\n",
      "Requirement already satisfied: requests>=2.28 in c:\\users\\dell\\appdata\\local\\packages\\pythonsoftwarefoundation.python.3.10_qbz5n2kfra8p0\\localcache\\local-packages\\python310\\site-packages (from chromadb) (2.31.0)\n",
      "Requirement already satisfied: pydantic>=1.9 in c:\\users\\dell\\appdata\\local\\packages\\pythonsoftwarefoundation.python.3.10_qbz5n2kfra8p0\\localcache\\local-packages\\python310\\site-packages (from chromadb) (1.10.15)\n",
      "Requirement already satisfied: chroma-hnswlib==0.7.3 in c:\\users\\dell\\appdata\\local\\packages\\pythonsoftwarefoundation.python.3.10_qbz5n2kfra8p0\\localcache\\local-packages\\python310\\site-packages (from chromadb) (0.7.3)\n",
      "Requirement already satisfied: fastapi>=0.95.2 in c:\\users\\dell\\appdata\\local\\packages\\pythonsoftwarefoundation.python.3.10_qbz5n2kfra8p0\\localcache\\local-packages\\python310\\site-packages (from chromadb) (0.110.0)\n",
      "Requirement already satisfied: uvicorn>=0.18.3 in c:\\users\\dell\\appdata\\local\\packages\\pythonsoftwarefoundation.python.3.10_qbz5n2kfra8p0\\localcache\\local-packages\\python310\\site-packages (from uvicorn[standard]>=0.18.3->chromadb) (0.27.1)\n",
      "Requirement already satisfied: numpy>=1.22.5 in c:\\users\\dell\\appdata\\local\\packages\\pythonsoftwarefoundation.python.3.10_qbz5n2kfra8p0\\localcache\\local-packages\\python310\\site-packages (from chromadb) (1.23.4)\n",
      "Requirement already satisfied: posthog>=2.4.0 in c:\\users\\dell\\appdata\\local\\packages\\pythonsoftwarefoundation.python.3.10_qbz5n2kfra8p0\\localcache\\local-packages\\python310\\site-packages (from chromadb) (3.5.0)\n",
      "Requirement already satisfied: typing-extensions>=4.5.0 in c:\\users\\dell\\appdata\\local\\packages\\pythonsoftwarefoundation.python.3.10_qbz5n2kfra8p0\\localcache\\local-packages\\python310\\site-packages (from chromadb) (4.10.0)\n",
      "Requirement already satisfied: onnxruntime>=1.14.1 in c:\\users\\dell\\appdata\\local\\packages\\pythonsoftwarefoundation.python.3.10_qbz5n2kfra8p0\\localcache\\local-packages\\python310\\site-packages (from chromadb) (1.18.0)\n",
      "Requirement already satisfied: opentelemetry-api>=1.2.0 in c:\\users\\dell\\appdata\\local\\packages\\pythonsoftwarefoundation.python.3.10_qbz5n2kfra8p0\\localcache\\local-packages\\python310\\site-packages (from chromadb) (1.25.0)\n",
      "Requirement already satisfied: opentelemetry-exporter-otlp-proto-grpc>=1.2.0 in c:\\users\\dell\\appdata\\local\\packages\\pythonsoftwarefoundation.python.3.10_qbz5n2kfra8p0\\localcache\\local-packages\\python310\\site-packages (from chromadb) (1.25.0)\n",
      "Requirement already satisfied: opentelemetry-instrumentation-fastapi>=0.41b0 in c:\\users\\dell\\appdata\\local\\packages\\pythonsoftwarefoundation.python.3.10_qbz5n2kfra8p0\\localcache\\local-packages\\python310\\site-packages (from chromadb) (0.46b0)\n",
      "Requirement already satisfied: opentelemetry-sdk>=1.2.0 in c:\\users\\dell\\appdata\\local\\packages\\pythonsoftwarefoundation.python.3.10_qbz5n2kfra8p0\\localcache\\local-packages\\python310\\site-packages (from chromadb) (1.25.0)\n",
      "Requirement already satisfied: tokenizers>=0.13.2 in c:\\users\\dell\\appdata\\local\\packages\\pythonsoftwarefoundation.python.3.10_qbz5n2kfra8p0\\localcache\\local-packages\\python310\\site-packages (from chromadb) (0.15.2)\n",
      "Requirement already satisfied: pypika>=0.48.9 in c:\\users\\dell\\appdata\\local\\packages\\pythonsoftwarefoundation.python.3.10_qbz5n2kfra8p0\\localcache\\local-packages\\python310\\site-packages (from chromadb) (0.48.9)\n",
      "Requirement already satisfied: tqdm>=4.65.0 in c:\\users\\dell\\appdata\\local\\packages\\pythonsoftwarefoundation.python.3.10_qbz5n2kfra8p0\\localcache\\local-packages\\python310\\site-packages (from chromadb) (4.66.1)\n",
      "Requirement already satisfied: overrides>=7.3.1 in c:\\users\\dell\\appdata\\local\\packages\\pythonsoftwarefoundation.python.3.10_qbz5n2kfra8p0\\localcache\\local-packages\\python310\\site-packages (from chromadb) (7.7.0)\n",
      "Requirement already satisfied: importlib-resources in c:\\users\\dell\\appdata\\local\\packages\\pythonsoftwarefoundation.python.3.10_qbz5n2kfra8p0\\localcache\\local-packages\\python310\\site-packages (from chromadb) (6.4.0)\n",
      "Requirement already satisfied: grpcio>=1.58.0 in c:\\users\\dell\\appdata\\local\\packages\\pythonsoftwarefoundation.python.3.10_qbz5n2kfra8p0\\localcache\\local-packages\\python310\\site-packages (from chromadb) (1.64.1)\n",
      "Requirement already satisfied: bcrypt>=4.0.1 in c:\\users\\dell\\appdata\\local\\packages\\pythonsoftwarefoundation.python.3.10_qbz5n2kfra8p0\\localcache\\local-packages\\python310\\site-packages (from chromadb) (4.1.3)\n",
      "Requirement already satisfied: typer>=0.9.0 in c:\\users\\dell\\appdata\\local\\packages\\pythonsoftwarefoundation.python.3.10_qbz5n2kfra8p0\\localcache\\local-packages\\python310\\site-packages (from chromadb) (0.12.3)\n",
      "Requirement already satisfied: kubernetes>=28.1.0 in c:\\users\\dell\\appdata\\local\\packages\\pythonsoftwarefoundation.python.3.10_qbz5n2kfra8p0\\localcache\\local-packages\\python310\\site-packages (from chromadb) (29.0.0)\n",
      "Requirement already satisfied: tenacity>=8.2.3 in c:\\users\\dell\\appdata\\local\\packages\\pythonsoftwarefoundation.python.3.10_qbz5n2kfra8p0\\localcache\\local-packages\\python310\\site-packages (from chromadb) (8.2.3)\n",
      "Requirement already satisfied: PyYAML>=6.0.0 in c:\\users\\dell\\appdata\\local\\packages\\pythonsoftwarefoundation.python.3.10_qbz5n2kfra8p0\\localcache\\local-packages\\python310\\site-packages (from chromadb) (6.0.1)\n",
      "Requirement already satisfied: mmh3>=4.0.1 in c:\\users\\dell\\appdata\\local\\packages\\pythonsoftwarefoundation.python.3.10_qbz5n2kfra8p0\\localcache\\local-packages\\python310\\site-packages (from chromadb) (4.1.0)\n",
      "Requirement already satisfied: orjson>=3.9.12 in c:\\users\\dell\\appdata\\local\\packages\\pythonsoftwarefoundation.python.3.10_qbz5n2kfra8p0\\localcache\\local-packages\\python310\\site-packages (from chromadb) (3.10.0)\n",
      "Requirement already satisfied: packaging>=19.1 in c:\\users\\dell\\appdata\\local\\packages\\pythonsoftwarefoundation.python.3.10_qbz5n2kfra8p0\\localcache\\local-packages\\python310\\site-packages (from build>=1.0.3->chromadb) (23.2)\n",
      "Requirement already satisfied: pyproject_hooks in c:\\users\\dell\\appdata\\local\\packages\\pythonsoftwarefoundation.python.3.10_qbz5n2kfra8p0\\localcache\\local-packages\\python310\\site-packages (from build>=1.0.3->chromadb) (1.1.0)\n",
      "Requirement already satisfied: colorama in c:\\users\\dell\\appdata\\local\\packages\\pythonsoftwarefoundation.python.3.10_qbz5n2kfra8p0\\localcache\\local-packages\\python310\\site-packages (from build>=1.0.3->chromadb) (0.4.5)\n",
      "Requirement already satisfied: tomli>=1.1.0 in c:\\users\\dell\\appdata\\local\\packages\\pythonsoftwarefoundation.python.3.10_qbz5n2kfra8p0\\localcache\\local-packages\\python310\\site-packages (from build>=1.0.3->chromadb) (2.0.1)\n",
      "Requirement already satisfied: starlette<0.37.0,>=0.36.3 in c:\\users\\dell\\appdata\\local\\packages\\pythonsoftwarefoundation.python.3.10_qbz5n2kfra8p0\\localcache\\local-packages\\python310\\site-packages (from fastapi>=0.95.2->chromadb) (0.36.3)\n",
      "Requirement already satisfied: certifi>=14.05.14 in c:\\users\\dell\\appdata\\local\\packages\\pythonsoftwarefoundation.python.3.10_qbz5n2kfra8p0\\localcache\\local-packages\\python310\\site-packages (from kubernetes>=28.1.0->chromadb) (2024.2.2)\n",
      "Requirement already satisfied: six>=1.9.0 in c:\\users\\dell\\appdata\\local\\packages\\pythonsoftwarefoundation.python.3.10_qbz5n2kfra8p0\\localcache\\local-packages\\python310\\site-packages (from kubernetes>=28.1.0->chromadb) (1.16.0)\n",
      "Requirement already satisfied: python-dateutil>=2.5.3 in c:\\users\\dell\\appdata\\local\\packages\\pythonsoftwarefoundation.python.3.10_qbz5n2kfra8p0\\localcache\\local-packages\\python310\\site-packages (from kubernetes>=28.1.0->chromadb) (2.8.2)\n",
      "Requirement already satisfied: google-auth>=1.0.1 in c:\\users\\dell\\appdata\\local\\packages\\pythonsoftwarefoundation.python.3.10_qbz5n2kfra8p0\\localcache\\local-packages\\python310\\site-packages (from kubernetes>=28.1.0->chromadb) (2.29.0)\n",
      "Requirement already satisfied: websocket-client!=0.40.0,!=0.41.*,!=0.42.*,>=0.32.0 in c:\\users\\dell\\appdata\\local\\packages\\pythonsoftwarefoundation.python.3.10_qbz5n2kfra8p0\\localcache\\local-packages\\python310\\site-packages (from kubernetes>=28.1.0->chromadb) (1.8.0)\n",
      "Requirement already satisfied: requests-oauthlib in c:\\users\\dell\\appdata\\local\\packages\\pythonsoftwarefoundation.python.3.10_qbz5n2kfra8p0\\localcache\\local-packages\\python310\\site-packages (from kubernetes>=28.1.0->chromadb) (1.4.0)\n",
      "Requirement already satisfied: oauthlib>=3.2.2 in c:\\users\\dell\\appdata\\local\\packages\\pythonsoftwarefoundation.python.3.10_qbz5n2kfra8p0\\localcache\\local-packages\\python310\\site-packages (from kubernetes>=28.1.0->chromadb) (3.2.2)\n",
      "Requirement already satisfied: urllib3>=1.24.2 in c:\\users\\dell\\appdata\\local\\packages\\pythonsoftwarefoundation.python.3.10_qbz5n2kfra8p0\\localcache\\local-packages\\python310\\site-packages (from kubernetes>=28.1.0->chromadb) (2.2.1)\n",
      "Requirement already satisfied: coloredlogs in c:\\users\\dell\\appdata\\local\\packages\\pythonsoftwarefoundation.python.3.10_qbz5n2kfra8p0\\localcache\\local-packages\\python310\\site-packages (from onnxruntime>=1.14.1->chromadb) (15.0.1)\n",
      "Requirement already satisfied: flatbuffers in c:\\users\\dell\\appdata\\local\\packages\\pythonsoftwarefoundation.python.3.10_qbz5n2kfra8p0\\localcache\\local-packages\\python310\\site-packages (from onnxruntime>=1.14.1->chromadb) (24.3.25)\n",
      "Requirement already satisfied: protobuf in c:\\users\\dell\\appdata\\local\\packages\\pythonsoftwarefoundation.python.3.10_qbz5n2kfra8p0\\localcache\\local-packages\\python310\\site-packages (from onnxruntime>=1.14.1->chromadb) (4.25.3)\n",
      "Requirement already satisfied: sympy in c:\\users\\dell\\appdata\\local\\packages\\pythonsoftwarefoundation.python.3.10_qbz5n2kfra8p0\\localcache\\local-packages\\python310\\site-packages (from onnxruntime>=1.14.1->chromadb) (1.12.1)\n",
      "Requirement already satisfied: deprecated>=1.2.6 in c:\\users\\dell\\appdata\\local\\packages\\pythonsoftwarefoundation.python.3.10_qbz5n2kfra8p0\\localcache\\local-packages\\python310\\site-packages (from opentelemetry-api>=1.2.0->chromadb) (1.2.14)\n",
      "Requirement already satisfied: importlib-metadata<=7.1,>=6.0 in c:\\users\\dell\\appdata\\local\\packages\\pythonsoftwarefoundation.python.3.10_qbz5n2kfra8p0\\localcache\\local-packages\\python310\\site-packages (from opentelemetry-api>=1.2.0->chromadb) (7.1.0)\n",
      "Requirement already satisfied: googleapis-common-protos~=1.52 in c:\\users\\dell\\appdata\\local\\packages\\pythonsoftwarefoundation.python.3.10_qbz5n2kfra8p0\\localcache\\local-packages\\python310\\site-packages (from opentelemetry-exporter-otlp-proto-grpc>=1.2.0->chromadb) (1.63.1)\n",
      "Requirement already satisfied: opentelemetry-exporter-otlp-proto-common==1.25.0 in c:\\users\\dell\\appdata\\local\\packages\\pythonsoftwarefoundation.python.3.10_qbz5n2kfra8p0\\localcache\\local-packages\\python310\\site-packages (from opentelemetry-exporter-otlp-proto-grpc>=1.2.0->chromadb) (1.25.0)\n",
      "Requirement already satisfied: opentelemetry-proto==1.25.0 in c:\\users\\dell\\appdata\\local\\packages\\pythonsoftwarefoundation.python.3.10_qbz5n2kfra8p0\\localcache\\local-packages\\python310\\site-packages (from opentelemetry-exporter-otlp-proto-grpc>=1.2.0->chromadb) (1.25.0)\n",
      "Requirement already satisfied: opentelemetry-instrumentation-asgi==0.46b0 in c:\\users\\dell\\appdata\\local\\packages\\pythonsoftwarefoundation.python.3.10_qbz5n2kfra8p0\\localcache\\local-packages\\python310\\site-packages (from opentelemetry-instrumentation-fastapi>=0.41b0->chromadb) (0.46b0)\n",
      "Requirement already satisfied: opentelemetry-instrumentation==0.46b0 in c:\\users\\dell\\appdata\\local\\packages\\pythonsoftwarefoundation.python.3.10_qbz5n2kfra8p0\\localcache\\local-packages\\python310\\site-packages (from opentelemetry-instrumentation-fastapi>=0.41b0->chromadb) (0.46b0)\n",
      "Requirement already satisfied: opentelemetry-semantic-conventions==0.46b0 in c:\\users\\dell\\appdata\\local\\packages\\pythonsoftwarefoundation.python.3.10_qbz5n2kfra8p0\\localcache\\local-packages\\python310\\site-packages (from opentelemetry-instrumentation-fastapi>=0.41b0->chromadb) (0.46b0)\n",
      "Requirement already satisfied: opentelemetry-util-http==0.46b0 in c:\\users\\dell\\appdata\\local\\packages\\pythonsoftwarefoundation.python.3.10_qbz5n2kfra8p0\\localcache\\local-packages\\python310\\site-packages (from opentelemetry-instrumentation-fastapi>=0.41b0->chromadb) (0.46b0)\n",
      "Requirement already satisfied: setuptools>=16.0 in c:\\program files\\windowsapps\\pythonsoftwarefoundation.python.3.10_3.10.3056.0_x64__qbz5n2kfra8p0\\lib\\site-packages (from opentelemetry-instrumentation==0.46b0->opentelemetry-instrumentation-fastapi>=0.41b0->chromadb) (65.5.0)\n",
      "Requirement already satisfied: wrapt<2.0.0,>=1.0.0 in c:\\users\\dell\\appdata\\local\\packages\\pythonsoftwarefoundation.python.3.10_qbz5n2kfra8p0\\localcache\\local-packages\\python310\\site-packages (from opentelemetry-instrumentation==0.46b0->opentelemetry-instrumentation-fastapi>=0.41b0->chromadb) (1.16.0)\n",
      "Requirement already satisfied: asgiref~=3.0 in c:\\users\\dell\\appdata\\local\\packages\\pythonsoftwarefoundation.python.3.10_qbz5n2kfra8p0\\localcache\\local-packages\\python310\\site-packages (from opentelemetry-instrumentation-asgi==0.46b0->opentelemetry-instrumentation-fastapi>=0.41b0->chromadb) (3.8.1)\n",
      "Requirement already satisfied: monotonic>=1.5 in c:\\users\\dell\\appdata\\local\\packages\\pythonsoftwarefoundation.python.3.10_qbz5n2kfra8p0\\localcache\\local-packages\\python310\\site-packages (from posthog>=2.4.0->chromadb) (1.6)\n",
      "Requirement already satisfied: backoff>=1.10.0 in c:\\users\\dell\\appdata\\local\\packages\\pythonsoftwarefoundation.python.3.10_qbz5n2kfra8p0\\localcache\\local-packages\\python310\\site-packages (from posthog>=2.4.0->chromadb) (2.2.1)\n",
      "Requirement already satisfied: charset-normalizer<4,>=2 in c:\\users\\dell\\appdata\\local\\packages\\pythonsoftwarefoundation.python.3.10_qbz5n2kfra8p0\\localcache\\local-packages\\python310\\site-packages (from requests>=2.28->chromadb) (3.3.2)\n",
      "Requirement already satisfied: idna<4,>=2.5 in c:\\users\\dell\\appdata\\local\\packages\\pythonsoftwarefoundation.python.3.10_qbz5n2kfra8p0\\localcache\\local-packages\\python310\\site-packages (from requests>=2.28->chromadb) (3.6)\n",
      "Requirement already satisfied: huggingface_hub<1.0,>=0.16.4 in c:\\users\\dell\\appdata\\local\\packages\\pythonsoftwarefoundation.python.3.10_qbz5n2kfra8p0\\localcache\\local-packages\\python310\\site-packages (from tokenizers>=0.13.2->chromadb) (0.23.2)\n",
      "Requirement already satisfied: click>=8.0.0 in c:\\users\\dell\\appdata\\local\\packages\\pythonsoftwarefoundation.python.3.10_qbz5n2kfra8p0\\localcache\\local-packages\\python310\\site-packages (from typer>=0.9.0->chromadb) (8.1.7)\n",
      "Requirement already satisfied: shellingham>=1.3.0 in c:\\users\\dell\\appdata\\local\\packages\\pythonsoftwarefoundation.python.3.10_qbz5n2kfra8p0\\localcache\\local-packages\\python310\\site-packages (from typer>=0.9.0->chromadb) (1.5.4)\n",
      "Requirement already satisfied: rich>=10.11.0 in c:\\users\\dell\\appdata\\local\\packages\\pythonsoftwarefoundation.python.3.10_qbz5n2kfra8p0\\localcache\\local-packages\\python310\\site-packages (from typer>=0.9.0->chromadb) (13.7.1)\n",
      "Requirement already satisfied: h11>=0.8 in c:\\users\\dell\\appdata\\local\\packages\\pythonsoftwarefoundation.python.3.10_qbz5n2kfra8p0\\localcache\\local-packages\\python310\\site-packages (from uvicorn>=0.18.3->uvicorn[standard]>=0.18.3->chromadb) (0.14.0)\n",
      "Requirement already satisfied: httptools>=0.5.0 in c:\\users\\dell\\appdata\\local\\packages\\pythonsoftwarefoundation.python.3.10_qbz5n2kfra8p0\\localcache\\local-packages\\python310\\site-packages (from uvicorn[standard]>=0.18.3->chromadb) (0.6.1)\n",
      "Requirement already satisfied: python-dotenv>=0.13 in c:\\users\\dell\\appdata\\local\\packages\\pythonsoftwarefoundation.python.3.10_qbz5n2kfra8p0\\localcache\\local-packages\\python310\\site-packages (from uvicorn[standard]>=0.18.3->chromadb) (1.0.0)\n",
      "Requirement already satisfied: watchfiles>=0.13 in c:\\users\\dell\\appdata\\local\\packages\\pythonsoftwarefoundation.python.3.10_qbz5n2kfra8p0\\localcache\\local-packages\\python310\\site-packages (from uvicorn[standard]>=0.18.3->chromadb) (0.22.0)\n",
      "Requirement already satisfied: websockets>=10.4 in c:\\users\\dell\\appdata\\local\\packages\\pythonsoftwarefoundation.python.3.10_qbz5n2kfra8p0\\localcache\\local-packages\\python310\\site-packages (from uvicorn[standard]>=0.18.3->chromadb) (12.0)\n",
      "Requirement already satisfied: cachetools<6.0,>=2.0.0 in c:\\users\\dell\\appdata\\local\\packages\\pythonsoftwarefoundation.python.3.10_qbz5n2kfra8p0\\localcache\\local-packages\\python310\\site-packages (from google-auth>=1.0.1->kubernetes>=28.1.0->chromadb) (5.3.3)\n",
      "Requirement already satisfied: pyasn1-modules>=0.2.1 in c:\\users\\dell\\appdata\\local\\packages\\pythonsoftwarefoundation.python.3.10_qbz5n2kfra8p0\\localcache\\local-packages\\python310\\site-packages (from google-auth>=1.0.1->kubernetes>=28.1.0->chromadb) (0.4.0)\n",
      "Requirement already satisfied: rsa<5,>=3.1.4 in c:\\users\\dell\\appdata\\local\\packages\\pythonsoftwarefoundation.python.3.10_qbz5n2kfra8p0\\localcache\\local-packages\\python310\\site-packages (from google-auth>=1.0.1->kubernetes>=28.1.0->chromadb) (4.9)\n",
      "Requirement already satisfied: filelock in c:\\users\\dell\\appdata\\local\\packages\\pythonsoftwarefoundation.python.3.10_qbz5n2kfra8p0\\localcache\\local-packages\\python310\\site-packages (from huggingface_hub<1.0,>=0.16.4->tokenizers>=0.13.2->chromadb) (3.13.3)\n",
      "Requirement already satisfied: fsspec>=2023.5.0 in c:\\users\\dell\\appdata\\local\\packages\\pythonsoftwarefoundation.python.3.10_qbz5n2kfra8p0\\localcache\\local-packages\\python310\\site-packages (from huggingface_hub<1.0,>=0.16.4->tokenizers>=0.13.2->chromadb) (2024.6.0)\n",
      "Requirement already satisfied: zipp>=0.5 in c:\\users\\dell\\appdata\\local\\packages\\pythonsoftwarefoundation.python.3.10_qbz5n2kfra8p0\\localcache\\local-packages\\python310\\site-packages (from importlib-metadata<=7.1,>=6.0->opentelemetry-api>=1.2.0->chromadb) (3.19.2)\n",
      "Requirement already satisfied: markdown-it-py>=2.2.0 in c:\\users\\dell\\appdata\\local\\packages\\pythonsoftwarefoundation.python.3.10_qbz5n2kfra8p0\\localcache\\local-packages\\python310\\site-packages (from rich>=10.11.0->typer>=0.9.0->chromadb) (3.0.0)\n",
      "Requirement already satisfied: pygments<3.0.0,>=2.13.0 in c:\\users\\dell\\appdata\\local\\packages\\pythonsoftwarefoundation.python.3.10_qbz5n2kfra8p0\\localcache\\local-packages\\python310\\site-packages (from rich>=10.11.0->typer>=0.9.0->chromadb) (2.17.2)\n",
      "Requirement already satisfied: anyio<5,>=3.4.0 in c:\\users\\dell\\appdata\\local\\packages\\pythonsoftwarefoundation.python.3.10_qbz5n2kfra8p0\\localcache\\local-packages\\python310\\site-packages (from starlette<0.37.0,>=0.36.3->fastapi>=0.95.2->chromadb) (4.3.0)\n",
      "Requirement already satisfied: humanfriendly>=9.1 in c:\\users\\dell\\appdata\\local\\packages\\pythonsoftwarefoundation.python.3.10_qbz5n2kfra8p0\\localcache\\local-packages\\python310\\site-packages (from coloredlogs->onnxruntime>=1.14.1->chromadb) (10.0)\n",
      "Requirement already satisfied: mpmath<1.4.0,>=1.1.0 in c:\\users\\dell\\appdata\\local\\packages\\pythonsoftwarefoundation.python.3.10_qbz5n2kfra8p0\\localcache\\local-packages\\python310\\site-packages (from sympy->onnxruntime>=1.14.1->chromadb) (1.3.0)\n",
      "Requirement already satisfied: sniffio>=1.1 in c:\\users\\dell\\appdata\\local\\packages\\pythonsoftwarefoundation.python.3.10_qbz5n2kfra8p0\\localcache\\local-packages\\python310\\site-packages (from anyio<5,>=3.4.0->starlette<0.37.0,>=0.36.3->fastapi>=0.95.2->chromadb) (1.3.1)\n",
      "Requirement already satisfied: exceptiongroup>=1.0.2 in c:\\users\\dell\\appdata\\local\\packages\\pythonsoftwarefoundation.python.3.10_qbz5n2kfra8p0\\localcache\\local-packages\\python310\\site-packages (from anyio<5,>=3.4.0->starlette<0.37.0,>=0.36.3->fastapi>=0.95.2->chromadb) (1.2.0)\n",
      "Requirement already satisfied: pyreadline3 in c:\\users\\dell\\appdata\\local\\packages\\pythonsoftwarefoundation.python.3.10_qbz5n2kfra8p0\\localcache\\local-packages\\python310\\site-packages (from humanfriendly>=9.1->coloredlogs->onnxruntime>=1.14.1->chromadb) (3.4.1)\n",
      "Requirement already satisfied: mdurl~=0.1 in c:\\users\\dell\\appdata\\local\\packages\\pythonsoftwarefoundation.python.3.10_qbz5n2kfra8p0\\localcache\\local-packages\\python310\\site-packages (from markdown-it-py>=2.2.0->rich>=10.11.0->typer>=0.9.0->chromadb) (0.1.2)\n",
      "Requirement already satisfied: pyasn1<0.7.0,>=0.4.6 in c:\\users\\dell\\appdata\\local\\packages\\pythonsoftwarefoundation.python.3.10_qbz5n2kfra8p0\\localcache\\local-packages\\python310\\site-packages (from pyasn1-modules>=0.2.1->google-auth>=1.0.1->kubernetes>=28.1.0->chromadb) (0.6.0)\n"
     ]
    }
   ],
   "source": [
    "! pip install chromadb"
   ]
  },
  {
   "cell_type": "code",
   "execution_count": 55,
   "metadata": {},
   "outputs": [],
   "source": [
    "from langchain.vectorstores import Chroma"
   ]
  },
  {
   "cell_type": "code",
   "execution_count": 56,
   "metadata": {},
   "outputs": [],
   "source": [
    "persist_directory = 'embeddings/chroma/'"
   ]
  },
  {
   "cell_type": "code",
   "execution_count": 57,
   "metadata": {},
   "outputs": [],
   "source": [
    "vectordb = Chroma.from_documents(\n",
    "    documents=splits,\n",
    "    embedding=embedding,\n",
    "    persist_directory=persist_directory\n",
    ")"
   ]
  },
  {
   "cell_type": "code",
   "execution_count": 58,
   "metadata": {},
   "outputs": [
    {
     "name": "stdout",
     "output_type": "stream",
     "text": [
      "228\n"
     ]
    }
   ],
   "source": [
    "print(vectordb._collection.count())"
   ]
  },
  {
   "cell_type": "markdown",
   "metadata": {},
   "source": [
    "### Similarity Search"
   ]
  },
  {
   "cell_type": "code",
   "execution_count": 59,
   "metadata": {},
   "outputs": [],
   "source": [
    "question = \"is there an email i can ask for help\""
   ]
  },
  {
   "cell_type": "code",
   "execution_count": 60,
   "metadata": {},
   "outputs": [],
   "source": [
    "docs = vectordb.similarity_search(question,k=3)"
   ]
  },
  {
   "cell_type": "code",
   "execution_count": 61,
   "metadata": {},
   "outputs": [
    {
     "data": {
      "text/plain": [
       "3"
      ]
     },
     "execution_count": 61,
     "metadata": {},
     "output_type": "execute_result"
    }
   ],
   "source": [
    "len(docs)"
   ]
  },
  {
   "cell_type": "code",
   "execution_count": 62,
   "metadata": {},
   "outputs": [
    {
     "data": {
      "text/plain": [
       "\"cs229-qa@cs.stanford.edu. This goes to an acc ount that's read by all the TAs and me. So \\nrather than sending us email individually, if you send email to this account, it will \\nactually let us get back to you maximally quickly with answers to your questions.  \\nIf you're asking questions about homework probl ems, please say in the subject line which \\nassignment and which question the email refers to, since that will also help us to route \\nyour question to the appropriate TA or to me  appropriately and get the response back to \\nyou quickly.  \\nLet's see. Skipping ahead — let's see — for homework, one midterm, one open and term \\nproject. Notice on the honor code. So one thi ng that I think will help you to succeed and \\ndo well in this class and even help you to enjoy this cla ss more is if you form a study \\ngroup.  \\nSo start looking around where you' re sitting now or at the end of class today, mingle a \\nlittle bit and get to know your classmates. I strongly encourage you to form study groups \\nand sort of have a group of people to study with and have a group of your fellow students \\nto talk over these concepts with. You can also  post on the class news group if you want to \\nuse that to try to form a study group.  \\nBut some of the problems sets in this cla ss are reasonably difficult.  People that have \\ntaken the class before may tell you they were very difficult. And just I bet it would be \\nmore fun for you, and you'd probably have a be tter learning experience if you form a\""
      ]
     },
     "execution_count": 62,
     "metadata": {},
     "output_type": "execute_result"
    }
   ],
   "source": [
    "docs[0].page_content"
   ]
  },
  {
   "cell_type": "markdown",
   "metadata": {},
   "source": [
    "### some failuares: due to duplicate docs"
   ]
  },
  {
   "cell_type": "code",
   "execution_count": 63,
   "metadata": {},
   "outputs": [
    {
     "name": "stdout",
     "output_type": "stream",
     "text": [
      "those homeworks will be done in either MATLA B or in Octave, which is sort of — I \n",
      "know some people call it a free ve rsion of MATLAB, which it sort  of is, sort of isn't.  \n",
      "So I guess for those of you that haven't s een MATLAB before, and I know most of you \n",
      "have, MATLAB is I guess part of the programming language that makes it very easy to write codes using matrices, to write code for numerical routines, to move data around, to \n",
      "plot data. And it's sort of an extremely easy to  learn tool to use for implementing a lot of \n",
      "learning algorithms.  \n",
      "And in case some of you want to work on your  own home computer or something if you \n",
      "don't have a MATLAB license, for the purposes of  this class, there's also — [inaudible] \n",
      "write that down [inaudible] MATLAB — there' s also a software package called Octave \n",
      "that you can download for free off the Internet. And it has somewhat fewer features than MATLAB, but it's free, and for the purposes of  this class, it will work for just about \n",
      "everything.  \n",
      "So actually I, well, so yeah, just a side comment for those of you that haven't seen \n",
      "MATLAB before I guess, once a colleague of mine at a different university, not at \n",
      "Stanford, actually teaches another machine l earning course. He's taught it for many years. \n",
      "So one day, he was in his office, and an old student of his from, lik e, ten years ago came \n",
      "into his office and he said, \"Oh, professo r, professor, thank you so much for your\n"
     ]
    }
   ],
   "source": [
    "question = \"what did they say about matlab?\"\n",
    "docs1 = vectordb.similarity_search(question,k=5)\n",
    "print(docs1[0].page_content)"
   ]
  },
  {
   "cell_type": "code",
   "execution_count": 64,
   "metadata": {},
   "outputs": [
    {
     "name": "stdout",
     "output_type": "stream",
     "text": [
      "those homeworks will be done in either MATLA B or in Octave, which is sort of — I \n",
      "know some people call it a free ve rsion of MATLAB, which it sort  of is, sort of isn't.  \n",
      "So I guess for those of you that haven't s een MATLAB before, and I know most of you \n",
      "have, MATLAB is I guess part of the programming language that makes it very easy to write codes using matrices, to write code for numerical routines, to move data around, to \n",
      "plot data. And it's sort of an extremely easy to  learn tool to use for implementing a lot of \n",
      "learning algorithms.  \n",
      "And in case some of you want to work on your  own home computer or something if you \n",
      "don't have a MATLAB license, for the purposes of  this class, there's also — [inaudible] \n",
      "write that down [inaudible] MATLAB — there' s also a software package called Octave \n",
      "that you can download for free off the Internet. And it has somewhat fewer features than MATLAB, but it's free, and for the purposes of  this class, it will work for just about \n",
      "everything.  \n",
      "So actually I, well, so yeah, just a side comment for those of you that haven't seen \n",
      "MATLAB before I guess, once a colleague of mine at a different university, not at \n",
      "Stanford, actually teaches another machine l earning course. He's taught it for many years. \n",
      "So one day, he was in his office, and an old student of his from, lik e, ten years ago came \n",
      "into his office and he said, \"Oh, professo r, professor, thank you so much for your\n"
     ]
    }
   ],
   "source": [
    "print(docs1[1].page_content)"
   ]
  },
  {
   "cell_type": "code",
   "execution_count": null,
   "metadata": {},
   "outputs": [],
   "source": []
  }
 ],
 "metadata": {
  "kernelspec": {
   "display_name": ".venv",
   "language": "python",
   "name": "python3"
  },
  "language_info": {
   "codemirror_mode": {
    "name": "ipython",
    "version": 3
   },
   "file_extension": ".py",
   "mimetype": "text/x-python",
   "name": "python",
   "nbconvert_exporter": "python",
   "pygments_lexer": "ipython3",
   "version": "3.10.11"
  }
 },
 "nbformat": 4,
 "nbformat_minor": 2
}
